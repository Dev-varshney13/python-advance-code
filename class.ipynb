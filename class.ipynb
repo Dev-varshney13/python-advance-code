{
 "cells": [
  {
   "cell_type": "markdown",
   "id": "b5cc6963-1c56-4fc7-892c-7621eeaf2813",
   "metadata": {},
   "source": []
  },
  {
   "cell_type": "code",
   "execution_count": 1,
   "id": "a44517f4-52c3-43e7-b85f-4d30d40e889f",
   "metadata": {},
   "outputs": [
    {
     "name": "stdout",
     "output_type": "stream",
     "text": [
      "hello\n"
     ]
    }
   ],
   "source": [
    "print(\"hello\")\n"
   ]
  },
  {
   "cell_type": "code",
   "execution_count": 2,
   "id": "78a787e5-57e0-4268-9a00-abdced36644f",
   "metadata": {},
   "outputs": [
    {
     "name": "stdout",
     "output_type": "stream",
     "text": [
      "fruit is :  Apple\n",
      "colour is :  Red\n"
     ]
    }
   ],
   "source": [
    "class Food:\n",
    "    def __init__(self,fruit,colour):\n",
    "        self.fruit=fruit\n",
    "        self.colour=colour\n",
    "    def show(self):\n",
    "        print(\"fruit is : \",self.fruit )\n",
    "        print(\"colour is : \",self.colour )\n",
    "\n",
    "X=Food(\"Apple\",\"Red\")\n",
    "X.show()\n",
    "\n",
    "\n",
    "        \n",
    "        \n",
    "        "
   ]
  },
  {
   "cell_type": "code",
   "execution_count": 3,
   "id": "56f06a67-52b2-4097-b31c-e2e24f0d2202",
   "metadata": {},
   "outputs": [],
   "source": [
    "#hello\n"
   ]
  },
  {
   "cell_type": "markdown",
   "id": "991b158c-8eae-4c2a-9728-b81c6e4719cd",
   "metadata": {},
   "source": [
    "###hwkjli\n"
   ]
  },
  {
   "cell_type": "code",
   "execution_count": 4,
   "id": "8416f0bc-4eba-460b-a2d1-2c20507e9565",
   "metadata": {},
   "outputs": [
    {
     "name": "stdout",
     "output_type": "stream",
     "text": [
      "this is an instance method\n"
     ]
    }
   ],
   "source": [
    "class Computer:\n",
    "    def instance_method(self):\n",
    "        return \"this is an instance method\"\n",
    "obj1=Computer()\n",
    "print(obj1.instance_method())"
   ]
  },
  {
   "cell_type": "code",
   "execution_count": 5,
   "id": "f7f0a3ef-cafa-4d9a-acf1-847427064919",
   "metadata": {},
   "outputs": [
    {
     "name": "stdout",
     "output_type": "stream",
     "text": [
      "this is an instance method with parameter a=12\n"
     ]
    }
   ],
   "source": [
    "class Computer:\n",
    "    def instance_method(self,a):\n",
    "        return f\"this is an instance method with parameter a={a}\"\n",
    "obj1=Computer()\n",
    "print(obj1.instance_method(12))"
   ]
  },
  {
   "cell_type": "code",
   "execution_count": 5,
   "id": "314329da-bcd5-4b4c-839a-e32dfb0b840b",
   "metadata": {},
   "outputs": [
    {
     "name": "stdout",
     "output_type": "stream",
     "text": [
      "hello good morning\n",
      "None\n"
     ]
    }
   ],
   "source": [
    "def greetings(message):\n",
    "    x=\"hello\"\n",
    "    def display():\n",
    "        print(x,message)\n",
    "    display()\n",
    "print(greetings(\"good morning\"))"
   ]
  },
  {
   "cell_type": "code",
   "execution_count": 6,
   "id": "fb1560b5-34d0-4b0e-9803-cb88ba0be73c",
   "metadata": {},
   "outputs": [
    {
     "name": "stdout",
     "output_type": "stream",
     "text": [
      "hello!!!\n"
     ]
    }
   ],
   "source": [
    "def hello():\n",
    "    return \"hello!!!\"\n",
    "print(hello())\n"
   ]
  },
  {
   "cell_type": "code",
   "execution_count": 7,
   "id": "34e6df54-20b4-486b-8c16-2522f70949c8",
   "metadata": {},
   "outputs": [
    {
     "name": "stdout",
     "output_type": "stream",
     "text": [
      "hello!!!how are you?how are you?\n"
     ]
    }
   ],
   "source": [
    "def deco_hello(fun):\n",
    "    def inner():\n",
    "        c=fun()\n",
    "        return c+ \"how are you?\"\n",
    "    return inner\n",
    "    \n",
    "\n",
    "@deco_hello\n",
    "\n",
    "def hello():\n",
    "    return \"hello!!!\"\n",
    "hello=deco_hello(hello)\n",
    "print(hello())\n"
   ]
  },
  {
   "cell_type": "code",
   "execution_count": 8,
   "id": "6e8cd91d-a44d-4fea-8988-5b1064641f30",
   "metadata": {
    "jupyter": {
     "source_hidden": true
    }
   },
   "outputs": [
    {
     "name": "stdout",
     "output_type": "stream",
     "text": [
      "add!!!!!\n"
     ]
    }
   ],
   "source": [
    "def deco_add(fun):\n",
    "    def inner():\n",
    "        c=fun()\n",
    "        return c+ \"!\"\n",
    "    return inner\n",
    "    \n",
    "\n",
    "@deco_add\n",
    "\n",
    "def add():\n",
    "    return \"add!!!\"\n",
    "add=deco_add(add)\n",
    "print(add())"
   ]
  },
  {
   "cell_type": "code",
   "execution_count": null,
   "id": "03ad1cba-2762-472b-9b4a-6d0c4c10e0e7",
   "metadata": {},
   "outputs": [],
   "source": [
    "def deco_add(fun):\n",
    "    def sqr(a,y)\n",
    "        c=fun(a,y)\n",
    "        return c,c**2\n",
    "    return sqr\n",
    "@deco_add\n",
    "def add(a,y):\n",
    "    return a+y\n",
    "print(add(3,2))\n",
    "    "
   ]
  },
  {
   "cell_type": "code",
   "execution_count": null,
   "id": "2d28c6c6-74f3-4eb7-91b7-7301115a9ac2",
   "metadata": {},
   "outputs": [],
   "source": []
  }
 ],
 "metadata": {
  "kernelspec": {
   "display_name": "Python 3 (ipykernel)",
   "language": "python",
   "name": "python3"
  },
  "language_info": {
   "codemirror_mode": {
    "name": "ipython",
    "version": 3
   },
   "file_extension": ".py",
   "mimetype": "text/x-python",
   "name": "python",
   "nbconvert_exporter": "python",
   "pygments_lexer": "ipython3",
   "version": "3.13.4"
  }
 },
 "nbformat": 4,
 "nbformat_minor": 5
}
