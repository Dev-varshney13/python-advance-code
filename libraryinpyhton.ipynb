{
 "cells": [
  {
   "cell_type": "markdown",
   "id": "a01b24b4-15a1-4b83-853c-85a481a0a28b",
   "metadata": {},
   "source": [
    "<font color='yellow'><h1>Libraries in python</h1></font>\n",
    "\n",
    "•numpy\n",
    "•pandas\n",
    "•matplotlib\n",
    "•seaborn\n",
    "•plotly\n",
    "•sciPy\n",
    "\n",
    "NumPy: numeric python\n",
    "-Package for scientific computing in python\n",
    "-NumPy is Library that provides n-dimensional array objects.\n",
    "-fast operation on Arrays including logical ,shape manipulation,sorting,selecting,discrete mathematics,Fourier Transforms\n",
    "\n"
   ]
  },
  {
   "cell_type": "code",
   "execution_count": 2,
   "id": "30ac53af-59ab-4791-8e64-7af9d6b62296",
   "metadata": {},
   "outputs": [
    {
     "name": "stdout",
     "output_type": "stream",
     "text": [
      "[1 2 3 4 5]\n",
      "<class 'numpy.ndarray'>\n"
     ]
    }
   ],
   "source": [
    "import numpy as np\n",
    "a=np.array([1,2,3,4,5])\n",
    "print(a)\n",
    "print(type(a))\n"
   ]
  },
  {
   "cell_type": "code",
   "execution_count": 5,
   "id": "cc7787ff-7e5d-4598-b0c8-d861c8b45e52",
   "metadata": {},
   "outputs": [
    {
     "name": "stdout",
     "output_type": "stream",
     "text": [
      "['1' '2' '3.5' 'dev' '79']\n",
      "<class 'numpy.ndarray'>\n",
      "int64\n",
      "<U32\n"
     ]
    }
   ],
   "source": [
    "import numpy as np\n",
    "b= np.array([1,2,3.5,'dev',79])\n",
    "print(b)\n",
    "print(type(b))\n",
    "print(a.dtype)\n",
    "print(b.dtype)\n",
    "      "
   ]
  },
  {
   "cell_type": "markdown",
   "id": "f116b55b-2fd7-4dbd-b274-692599cc4dd1",
   "metadata": {},
   "source": [
    "<h1>reshaping</h1>\n",
    "-as long as the elements required for reshaping are equal in both shapes\n",
    "-E.g we can reshape an 8 elements 1d array into 4 elements in 2 rows 2d array but we can not reswhape it into a 3elements rows 2d array\n"
   ]
  },
  {
   "cell_type": "code",
   "execution_count": 8,
   "id": "bdc556e5-18f3-4779-a238-cbd817a66099",
   "metadata": {},
   "outputs": [
    {
     "name": "stdout",
     "output_type": "stream",
     "text": [
      "[[2 3 4]\n",
      " [5 6 8]\n",
      " [3 5 6]]\n"
     ]
    }
   ],
   "source": [
    "import numpy as np\n",
    "a=np.array([2,3,4,5,6,8,3,5,6])\n",
    "na=a.reshape(3,3)\n",
    "print(na)"
   ]
  },
  {
   "cell_type": "markdown",
   "id": "3a63112a-abdc-4d3c-a1f5-ad50738de986",
   "metadata": {},
   "source": [
    "<h1> Resizing </h1>\n",
    "The resize() function is used to create a new array with the specified shape\n",
    "If the new array is larger than the original array,then the new array is filled with repeated copies of a."
   ]
  },
  {
   "cell_type": "code",
   "execution_count": 13,
   "id": "308ec14d-15b9-42bf-b942-64872edf00bb",
   "metadata": {},
   "outputs": [
    {
     "name": "stdout",
     "output_type": "stream",
     "text": [
      "[[1 2]\n",
      " [5 6]\n",
      " [1 2]]\n"
     ]
    }
   ],
   "source": [
    "import numpy as np\n",
    "arr=np.array([[1,2],[5,6]])\n",
    "na=np.resize(arr,(3,2))\n",
    "print(na)"
   ]
  },
  {
   "cell_type": "markdown",
   "id": "c1c1e3f2-45d4-4479-87ab-6436d896a232",
   "metadata": {},
   "source": [
    "<h1>difference</h1>\n",
    "reshape does not change the original array but only returns the changed array.\n",
    "whereas the resize() method returns nothing and directly changes the original array."
   ]
  },
  {
   "cell_type": "code",
   "execution_count": 1,
   "id": "70388d29-1f0e-4bc0-abe4-2556650627ba",
   "metadata": {},
   "outputs": [
    {
     "name": "stdout",
     "output_type": "stream",
     "text": [
      "Original\n",
      "[1 2 3 4 5 6]\n",
      "changed\n",
      "None\n",
      "reshape\n",
      "[[1 2]\n",
      " [3 4]\n",
      " [5 6]]\n",
      "[[1 2 3]\n",
      " [4 5 6]]\n"
     ]
    }
   ],
   "source": [
    "import numpy as np\n",
    "cs=np.array([1,2,3,4,5,6])\n",
    "print(\"Original\")\n",
    "print(cs)\n",
    "print(\"changed\")\n",
    "print(cs.resize(2,3))\n",
    "print(\"reshape\")\n",
    "print(cs.reshape(3,2))\n",
    "print(cs)"
   ]
  },
  {
   "cell_type": "code",
   "execution_count": 20,
   "id": "47c86c34-85cf-4990-a6b4-31909cf024a1",
   "metadata": {},
   "outputs": [
    {
     "name": "stdout",
     "output_type": "stream",
     "text": [
      "[[1 2 3]\n",
      " [4 5 6]\n",
      " [7 8 9]]\n",
      "<class 'numpy.ndarray'>\n",
      "[[1 2]\n",
      " [4 5]]\n",
      "[[9 8 7]\n",
      " [6 5 4]\n",
      " [3 2 1]]\n"
     ]
    }
   ],
   "source": [
    "#creating a 2d array\n",
    "ar=np.array([[1,2,3],[4,5,6],[7,8,9]])\n",
    "print(ar)\n",
    "print(type(ar))\n",
    "print(ar[:2,:2])\n",
    "print(ar[::-1,::-1])"
   ]
  },
  {
   "cell_type": "markdown",
   "id": "b6db350b-7d34-4ea8-a3b1-5c1390d82e30",
   "metadata": {},
   "source": [
    "Attributes in numpy\n",
    "•ndim:Provides dimensions in array\n",
    "•size:Provides order of the matrix\n",
    "•shape:provide order of matrix\n",
    "•nbytes:No. of bytes occupied by an array\n",
    "•itemsize: Bytes occupied by each elements\n",
    "•dtype : give type of elements "
   ]
  },
  {
   "cell_type": "code",
   "execution_count": 21,
   "id": "35b73170-f05f-429a-aedc-26c4e8db82c5",
   "metadata": {},
   "outputs": [
    {
     "name": "stdout",
     "output_type": "stream",
     "text": [
      "[1 2 3 4 5 6]\n",
      "[[1 2 3]\n",
      " [2 3 4]\n",
      " [4 5 6]]\n",
      "1\n",
      "2\n",
      "6\n",
      "9\n",
      "(6,)\n",
      "(3, 3)\n"
     ]
    }
   ],
   "source": [
    "import numpy as np\n",
    "a=np.array([1,2,3,4,5,6])\n",
    "b=np.array([[1,2,3],[2,3,4],[4,5,6]])\n",
    "print(a)\n",
    "print(b)\n",
    "print(a.ndim)\n",
    "print(b.ndim)\n",
    "print(a.size)\n",
    "print(b.size)\n",
    "print(a.shape)\n",
    "print(b.shape)\n"
   ]
  },
  {
   "cell_type": "code",
   "execution_count": 38,
   "id": "7b1ad9f2-6c5e-4617-b997-0415d5e24962",
   "metadata": {},
   "outputs": [
    {
     "name": "stdout",
     "output_type": "stream",
     "text": [
      "[[0 0 0 0]\n",
      " [0 0 0 0]]\n",
      "\n",
      " [[1. 1. 1. 1.]\n",
      " [1. 1. 1. 1.]\n",
      " [1. 1. 1. 1.]]\n",
      "\n",
      " [[10 10 10 10]\n",
      " [10 10 10 10]\n",
      " [10 10 10 10]]\n",
      "\n",
      " [[nan nan nan]\n",
      " [nan nan nan]\n",
      " [nan nan nan]]\n",
      "\n",
      " [[10  0  0  0  0]\n",
      " [ 0 20  0  0  0]\n",
      " [ 0  0 30  0  0]\n",
      " [ 0  0  0 40  0]\n",
      " [ 0  0  0  0 50]]\n",
      "\n",
      " [[1. 0. 0. 0. 0.]\n",
      " [0. 1. 0. 0. 0.]\n",
      " [0. 0. 1. 0. 0.]\n",
      " [0. 0. 0. 1. 0.]\n",
      " [0. 0. 0. 0. 1.]]\n"
     ]
    }
   ],
   "source": [
    "a=np.zeros((2,4),dtype='int16')\n",
    "b=np.ones((3,4))\n",
    "print(a)\n",
    "print(\"\\n\",b)\n",
    "x=np.full((3,4),10)\n",
    "print(\"\\n\",x)\n",
    "y=np.full((3,3),np.nan)\n",
    "print(\"\\n\",y)\n",
    "m=np.diag([10,20,30,40,50])\n",
    "print(\"\\n\",m)\n",
    "e=np.eye(5)\n",
    "print(\"\\n\",e)"
   ]
  },
  {
   "cell_type": "markdown",
   "id": "8c86eb5d-1b96-4627-8bd8-01a28ab7bf00",
   "metadata": {},
   "source": [
    "•Flatten: it creates 1d array from any nd array\n",
    "•Ravel:it create 1d array from any nd array\n",
    "\n",
    "#ravel is fasteer "
   ]
  },
  {
   "cell_type": "code",
   "execution_count": 34,
   "id": "c5ffe0c9-50b0-4309-ac1a-841cf33e2fbb",
   "metadata": {},
   "outputs": [
    {
     "name": "stdout",
     "output_type": "stream",
     "text": [
      "[1 2 3 4 5 6 5 6 7]\n",
      "[1 2 3 4 5 6 5 6 7]\n"
     ]
    }
   ],
   "source": [
    "a=np.array([[1,2,3],[4,5,6],[5,6,7]])\n",
    "b=a.ravel()\n",
    "print(b)\n",
    "c=a.flatten()\n",
    "print(c)"
   ]
  },
  {
   "cell_type": "code",
   "execution_count": 35,
   "id": "d460618a-f18b-4be0-8312-2dffb512803f",
   "metadata": {},
   "outputs": [
    {
     "name": "stdout",
     "output_type": "stream",
     "text": [
      "[[0.98490505 0.68847665 0.28447163 0.5349603 ]\n",
      " [0.58191546 0.33886466 0.3577414  0.1981104 ]\n",
      " [0.16806657 0.80749303 0.21895408 0.04863561]]\n"
     ]
    }
   ],
   "source": [
    "#random array\n",
    "d=np.random.rand(3,4)\n",
    "print(d)\n"
   ]
  },
  {
   "cell_type": "code",
   "execution_count": 36,
   "id": "464e9b69-ebc7-490f-9b11-ba3a28291e49",
   "metadata": {},
   "outputs": [
    {
     "name": "stdout",
     "output_type": "stream",
     "text": [
      "[[-4  0  2]\n",
      " [ 9  4  7]]\n"
     ]
    }
   ],
   "source": [
    "#random array\n",
    "d=np.random.randint(-4,10,size=(2,3))\n",
    "print(d)\n"
   ]
  },
  {
   "cell_type": "code",
   "execution_count": 39,
   "id": "459c358a-0b76-436f-a01e-688f345ac8dd",
   "metadata": {},
   "outputs": [
    {
     "name": "stdout",
     "output_type": "stream",
     "text": [
      "[10 11 12 13 14 15 16 17 18 19 20 21 22 23 24 25 26 27 28 29]\n"
     ]
    }
   ],
   "source": [
    "#random array\n",
    "d=np.arange(10,30)\n",
    "print(d)\n"
   ]
  },
  {
   "cell_type": "code",
   "execution_count": 42,
   "id": "b5ecc890-913b-442f-9f08-cfce5e0022b9",
   "metadata": {},
   "outputs": [
    {
     "name": "stdout",
     "output_type": "stream",
     "text": [
      "[ 1.55740772 -2.18503986 -0.14254654  1.15782128 -3.38051501 -0.29100619]\n"
     ]
    }
   ],
   "source": [
    "a=np.array([1,2,3,4,5,6])\n",
    "print(np.tan(a))"
   ]
  },
  {
   "cell_type": "code",
   "execution_count": 51,
   "id": "60c6c8b3-4db9-4a6e-9786-12645fb39bbd",
   "metadata": {},
   "outputs": [
    {
     "name": "stdout",
     "output_type": "stream",
     "text": [
      "[[3 4 5]\n",
      " [4 6 7]\n",
      " [7 8 9]]\n",
      "18\n",
      "[[ 7  9 10]\n",
      " [ 8 68 14]\n",
      " [79 10 18]]\n",
      "[[388 273  88]\n",
      " [544 406 125]\n",
      " [708 549 172]]\n",
      "[[388 273  88]\n",
      " [544 406 125]\n",
      " [708 549 172]]\n",
      "[[388 273  88]\n",
      " [544 406 125]\n",
      " [708 549 172]]\n",
      "-4.000000000000004\n",
      "-17763.99999999999\n",
      "[[ 0.5  -1.    0.5 ]\n",
      " [-3.25  2.    0.25]\n",
      " [ 2.5  -1.   -0.5 ]]\n",
      "[[-0.03062373  0.00197028  0.01548075]\n",
      " [-0.02634542  0.01823914  0.00045035]\n",
      " [ 0.2508444  -0.01981536 -0.01283495]]\n"
     ]
    }
   ],
   "source": [
    "a=np.array([[3,4,5],[4,6,7],[7,8,9]])\n",
    "b=np.array([[4,5,5],[4,62,7],[72,2,9]])\n",
    "print(a)\n",
    "a.transpose()\n",
    "print(np.trace(a))\n",
    "print(a+b)\n",
    "print(a.dot(b))\n",
    "print(a@b)\n",
    "print(np.matmul(a,b))\n",
    "print(np.linalg.det(a))\n",
    "print(np.linalg.det(b))\n",
    "print(np.linalg.inv(a))\n",
    "print(np.linalg.inv(b))\n"
   ]
  },
  {
   "cell_type": "code",
   "execution_count": null,
   "id": "01288d46-d93c-494e-9a52-3cd3a7f85b22",
   "metadata": {},
   "outputs": [],
   "source": []
  }
 ],
 "metadata": {
  "kernelspec": {
   "display_name": "Python 3 (ipykernel)",
   "language": "python",
   "name": "python3"
  },
  "language_info": {
   "codemirror_mode": {
    "name": "ipython",
    "version": 3
   },
   "file_extension": ".py",
   "mimetype": "text/x-python",
   "name": "python",
   "nbconvert_exporter": "python",
   "pygments_lexer": "ipython3",
   "version": "3.13.4"
  }
 },
 "nbformat": 4,
 "nbformat_minor": 5
}
