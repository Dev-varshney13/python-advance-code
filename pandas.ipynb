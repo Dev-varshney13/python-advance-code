{
 "cells": [
  {
   "cell_type": "code",
   "execution_count": 7,
   "id": "285d8ff6-d3d2-4a99-b838-9bcf2d046e93",
   "metadata": {},
   "outputs": [
    {
     "name": "stdout",
     "output_type": "stream",
     "text": [
      "      Series_reference   Period  Data_value Suppressed STATUS    UNITS  \\\n",
      "0          MFGQ.SFA1CA  1992.12    2493.370        NaN      F  Dollars   \n",
      "1          MFGQ.SFA1CA  1993.03    3209.200        NaN      F  Dollars   \n",
      "2          MFGQ.SFA1CA  1993.06    2780.170        NaN      F  Dollars   \n",
      "3          MFGQ.SFA1CA  1993.09    1933.010        NaN      F  Dollars   \n",
      "4          MFGQ.SFA1CA  1993.12    2692.920        NaN      F  Dollars   \n",
      "...                ...      ...         ...        ...    ...      ...   \n",
      "30055      MFGQ.SFZ5KA  2024.03   10399.776        NaN      R  Dollars   \n",
      "30056      MFGQ.SFZ5KA  2024.06    8981.859        NaN      R  Dollars   \n",
      "30057      MFGQ.SFZ5KA  2024.09    9426.188        NaN      R  Dollars   \n",
      "30058      MFGQ.SFZ5KA  2024.12   10595.690        NaN      R  Dollars   \n",
      "30059      MFGQ.SFZ5KA  2025.03   10826.352        NaN      F  Dollars   \n",
      "\n",
      "       Magnitude                                Subject  \\\n",
      "0              6  Manufacturing Survey (ANZSIC06) - MFG   \n",
      "1              6  Manufacturing Survey (ANZSIC06) - MFG   \n",
      "2              6  Manufacturing Survey (ANZSIC06) - MFG   \n",
      "3              6  Manufacturing Survey (ANZSIC06) - MFG   \n",
      "4              6  Manufacturing Survey (ANZSIC06) - MFG   \n",
      "...          ...                                    ...   \n",
      "30055          6  Manufacturing Survey (ANZSIC06) - MFG   \n",
      "30056          6  Manufacturing Survey (ANZSIC06) - MFG   \n",
      "30057          6  Manufacturing Survey (ANZSIC06) - MFG   \n",
      "30058          6  Manufacturing Survey (ANZSIC06) - MFG   \n",
      "30059          6  Manufacturing Survey (ANZSIC06) - MFG   \n",
      "\n",
      "                                                   Group  \\\n",
      "0      Industry by variable - Subannual Financial Col...   \n",
      "1      Industry by variable - Subannual Financial Col...   \n",
      "2      Industry by variable - Subannual Financial Col...   \n",
      "3      Industry by variable - Subannual Financial Col...   \n",
      "4      Industry by variable - Subannual Financial Col...   \n",
      "...                                                  ...   \n",
      "30055  Industry by variable - Subannual Financial Col...   \n",
      "30056  Industry by variable - Subannual Financial Col...   \n",
      "30057  Industry by variable - Subannual Financial Col...   \n",
      "30058  Industry by variable - Subannual Financial Col...   \n",
      "30059  Industry by variable - Subannual Financial Col...   \n",
      "\n",
      "                             Series_title_1  \\\n",
      "0      Meat and dairy product manufacturing   \n",
      "1      Meat and dairy product manufacturing   \n",
      "2      Meat and dairy product manufacturing   \n",
      "3      Meat and dairy product manufacturing   \n",
      "4      Meat and dairy product manufacturing   \n",
      "...                                     ...   \n",
      "30055                     All manufacturing   \n",
      "30056                     All manufacturing   \n",
      "30057                     All manufacturing   \n",
      "30058                     All manufacturing   \n",
      "30059                     All manufacturing   \n",
      "\n",
      "                                          Series_title_2  \\\n",
      "0                               Sales (operating income)   \n",
      "1                               Sales (operating income)   \n",
      "2                               Sales (operating income)   \n",
      "3                               Sales (operating income)   \n",
      "4                               Sales (operating income)   \n",
      "...                                                  ...   \n",
      "30055  Stocks of finished goods, trading goods and wo...   \n",
      "30056  Stocks of finished goods, trading goods and wo...   \n",
      "30057  Stocks of finished goods, trading goods and wo...   \n",
      "30058  Stocks of finished goods, trading goods and wo...   \n",
      "30059  Stocks of finished goods, trading goods and wo...   \n",
      "\n",
      "                                   Series_title_3 Series_title_4  \\\n",
      "0                                  Current prices     Unadjusted   \n",
      "1                                  Current prices     Unadjusted   \n",
      "2                                  Current prices     Unadjusted   \n",
      "3                                  Current prices     Unadjusted   \n",
      "4                                  Current prices     Unadjusted   \n",
      "...                                           ...            ...   \n",
      "30055  Deflated, at September 2010 quarter prices     Unadjusted   \n",
      "30056  Deflated, at September 2010 quarter prices     Unadjusted   \n",
      "30057  Deflated, at September 2010 quarter prices     Unadjusted   \n",
      "30058  Deflated, at September 2010 quarter prices     Unadjusted   \n",
      "30059  Deflated, at September 2010 quarter prices     Unadjusted   \n",
      "\n",
      "      Series_title_5  \n",
      "0                NaN  \n",
      "1                NaN  \n",
      "2                NaN  \n",
      "3                NaN  \n",
      "4                NaN  \n",
      "...              ...  \n",
      "30055            NaN  \n",
      "30056            NaN  \n",
      "30057            NaN  \n",
      "30058            NaN  \n",
      "30059            NaN  \n",
      "\n",
      "[30060 rows x 14 columns]\n"
     ]
    }
   ],
   "source": [
    "import pandas as pd\n",
    "#reading a csv file\n",
    "x=pd.read_csv(r\"C:\\Users\\hp\\Downloads\\employee.csv\")\n",
    "print(x)"
   ]
  },
  {
   "cell_type": "code",
   "execution_count": 8,
   "id": "cfcaf332-cea1-4ab3-ad48-287c570d41bd",
   "metadata": {},
   "outputs": [
    {
     "name": "stdout",
     "output_type": "stream",
     "text": [
      "30060\n"
     ]
    }
   ],
   "source": [
    "print(x.Magnitude.count())"
   ]
  },
  {
   "cell_type": "code",
   "execution_count": 9,
   "id": "ede9122b-908a-423b-a9a3-06c8e2f8a361",
   "metadata": {},
   "outputs": [
    {
     "name": "stdout",
     "output_type": "stream",
     "text": [
      "35749.295\n",
      "-26.0\n"
     ]
    }
   ],
   "source": [
    "print(x.Data_value.max())\n",
    "print(x.Data_value.min())"
   ]
  },
  {
   "cell_type": "code",
   "execution_count": 10,
   "id": "66162abe-7cfa-47b0-b085-a897e518c092",
   "metadata": {},
   "outputs": [
    {
     "name": "stdout",
     "output_type": "stream",
     "text": [
      "    ID        Start time   Completion time                  Email  \\\n",
      "0    1  6-18-25 14:25:10  6-18-25 14:26:56  0241cys090@niet.co.in   \n",
      "1    2  6-18-25 14:24:54  6-18-25 14:27:52  0241cse367@niet.co.in   \n",
      "2    3  6-18-25 14:24:58  6-18-25 14:28:06  0241cse304@niet.co.in   \n",
      "3    4  6-18-25 14:24:49  6-18-25 14:28:11  0241cse142@niet.co.in   \n",
      "4    5  6-18-25 14:25:09  6-18-25 14:28:17  0241cse268@niet.co.in   \n",
      "..  ..               ...               ...                    ...   \n",
      "87  88  6-18-25 14:26:55  6-18-25 14:33:59  0241cse263@niet.co.in   \n",
      "88  89  6-18-25 14:31:38  6-18-25 14:34:01  0241cse104@niet.co.in   \n",
      "89  90  6-18-25 14:26:00  6-18-25 14:34:04  0241cse024@niet.co.in   \n",
      "90  91  6-18-25 14:32:28  6-18-25 14:34:05  0241cse009@niet.co.in   \n",
      "91  92  6-18-25 14:26:28  6-18-25 14:34:16  0241cse074@niet.co.in   \n",
      "\n",
      "                    Name  Last modified time       NAME OF STUDENT  \\\n",
      "0   awanish kumar maurya                 NaN  AWANISH KUMAR MAURYA   \n",
      "1          Harshit Saini                 NaN         Harshit Saini   \n",
      "2         DIVYANSH GUPTA                 NaN       Divyansh Gupta    \n",
      "3            Rudra Verma                 NaN          Rudra Verma    \n",
      "4     Shivaji Bhai Patel                 NaN   Shivaji Bhai Patel    \n",
      "..                   ...                 ...                   ...   \n",
      "87         Sandesh Kumar                 NaN        Sandesh Kumar    \n",
      "88           ANKIT KUMAR                 NaN           ANKIT KUMAR   \n",
      "89    SANTOSH KUMAR SAHU                 NaN    Santosh Kumar Sahu   \n",
      "90       DHANANJAY SINGH                 NaN      Dhananjay Singh    \n",
      "91         Avneesh Kumar                 NaN        Avneesh Kumar    \n",
      "\n",
      "     ROLL NUMBER           ERP ID       OFFICIAL MAIL-ID          BRANCH  \\\n",
      "0   2.401330e+12  CYBER SECURITY   0241cys090@niet.co.in  Cybersecurity    \n",
      "1   2.401330e+12       0241cse367  0241cse367@niet.co.in             CSE   \n",
      "2   2.401330e+12       0241cse304  0241cse304@niet.co.in             CSE   \n",
      "3   2.401330e+12       0241cse142   0241cse142@gmail.com             CSE   \n",
      "4   2.401330e+12       0241cse268  0241cse268@niet.co.in             CSE   \n",
      "..           ...              ...                    ...             ...   \n",
      "87  2.401330e+12       0241cse263  0241cse263@niet.co.in             CSE   \n",
      "88  2.401330e+12       0241cse104  0241cse104@niet.co.in             CSE   \n",
      "89  2.401330e+12       0241CSE024  0241cse024@niet.co.in             CSE   \n",
      "90  2.401330e+12       0241cse009  0241cse009@niet.co.in             CSE   \n",
      "91  2.401330e+12       0241cse074  0241cse074@niet.co.in             CSE   \n",
      "\n",
      "   SECTION MARKS IN ENGLISH MARKS IN MATHS-1 MARKS IN BEEE/PHYSICS  \\\n",
      "0        A              100               90                    80   \n",
      "1        G               95               94                    96   \n",
      "2        F               97               93                    73   \n",
      "3        E               90               80                    85   \n",
      "4        B               98               70                    70   \n",
      "..     ...              ...              ...                   ...   \n",
      "87       D               80               85                    63   \n",
      "88       G               95               85                    82   \n",
      "89       A               98               81                    76   \n",
      "90       C               81               80                    75   \n",
      "91       G               90               33                    32   \n",
      "\n",
      "   MARKS IN DESIGN THINKING-1 TOTAL MARKS  \n",
      "0                          30         300  \n",
      "1                          97         382  \n",
      "2                          88         351  \n",
      "3                          75         330  \n",
      "4                          31         269  \n",
      "..                        ...         ...  \n",
      "87                         82         310  \n",
      "88                         79         400  \n",
      "89                         82         337  \n",
      "90                         75         311  \n",
      "91                         78         233  \n",
      "\n",
      "[92 rows x 17 columns]\n"
     ]
    }
   ],
   "source": [
    "import pandas as pd\n",
    "#reading a csv file\n",
    "x=pd.read_csv(r\"C:\\Users\\hp\\Downloads\\result.csv\")\n",
    "print(x)"
   ]
  },
  {
   "cell_type": "code",
   "execution_count": null,
   "id": "6357ea03-22c9-4f20-86d6-fa7deda5afd2",
   "metadata": {},
   "outputs": [],
   "source": [
    "#calculate max min marks in all different subjects\n",
    "#apply aggregation function on the diiferent group (column) in the given file.\n",
    "#perform inner,outer,right,left joint\n",
    "#change the column name official email id to email id\n",
    "#provide the name of student whose scored more than 80% in maths ,less than 75% in physics\n",
    "#add a new column name sgpa = total marks/10\n",
    "#add a new column grade A,b,c,d\n"
   ]
  },
  {
   "cell_type": "code",
   "execution_count": 13,
   "id": "fe0cdad2-83ec-47a7-b395-9a9cd0f15374",
   "metadata": {},
   "outputs": [
    {
     "name": "stdout",
     "output_type": "stream",
     "text": [
      "MARKS IN ENGLISH               99\n",
      "MARKS IN MATHS-1               96\n",
      "MARKS IN BEEE/PHYSICS          98\n",
      "MARKS IN DESIGN THINKING-1     99\n",
      "TOTAL MARKS                   753\n",
      "dtype: object\n"
     ]
    }
   ],
   "source": [
    "mx=x[['MARKS IN ENGLISH', 'MARKS IN MATHS-1', 'MARKS IN BEEE/PHYSICS','MARKS IN DESIGN THINKING-1','TOTAL MARKS']].max()\n",
    "print(mx)"
   ]
  },
  {
   "cell_type": "code",
   "execution_count": 14,
   "id": "16ce0e28-1e3f-4109-9463-259c067f1570",
   "metadata": {},
   "outputs": [
    {
     "name": "stdout",
     "output_type": "stream",
     "text": [
      "MARKS IN ENGLISH                1\n",
      "MARKS IN MATHS-1                1\n",
      "MARKS IN BEEE/PHYSICS           1\n",
      "MARKS IN DESIGN THINKING-1      1\n",
      "TOTAL MARKS                   203\n",
      "dtype: object\n"
     ]
    }
   ],
   "source": [
    "mn=x[['MARKS IN ENGLISH', 'MARKS IN MATHS-1', 'MARKS IN BEEE/PHYSICS','MARKS IN DESIGN THINKING-1','TOTAL MARKS']].min()\n",
    "print(mn)"
   ]
  },
  {
   "cell_type": "code",
   "execution_count": 19,
   "id": "1b4f5d04-cd64-4d83-8556-056ecb6d0a48",
   "metadata": {},
   "outputs": [
    {
     "name": "stdout",
     "output_type": "stream",
     "text": [
      "    ID        Start time   Completion time                  Email  \\\n",
      "0    1  6-18-25 14:25:10  6-18-25 14:26:56  0241cys090@niet.co.in   \n",
      "1    2  6-18-25 14:24:54  6-18-25 14:27:52  0241cse367@niet.co.in   \n",
      "2    3  6-18-25 14:24:58  6-18-25 14:28:06  0241cse304@niet.co.in   \n",
      "3    4  6-18-25 14:24:49  6-18-25 14:28:11  0241cse142@niet.co.in   \n",
      "4    5  6-18-25 14:25:09  6-18-25 14:28:17  0241cse268@niet.co.in   \n",
      "..  ..               ...               ...                    ...   \n",
      "87  88  6-18-25 14:26:55  6-18-25 14:33:59  0241cse263@niet.co.in   \n",
      "88  89  6-18-25 14:31:38  6-18-25 14:34:01  0241cse104@niet.co.in   \n",
      "89  90  6-18-25 14:26:00  6-18-25 14:34:04  0241cse024@niet.co.in   \n",
      "90  91  6-18-25 14:32:28  6-18-25 14:34:05  0241cse009@niet.co.in   \n",
      "91  92  6-18-25 14:26:28  6-18-25 14:34:16  0241cse074@niet.co.in   \n",
      "\n",
      "                    Name  Last modified time       NAME OF STUDENT  \\\n",
      "0   awanish kumar maurya                 NaN  AWANISH KUMAR MAURYA   \n",
      "1          Harshit Saini                 NaN         Harshit Saini   \n",
      "2         DIVYANSH GUPTA                 NaN       Divyansh Gupta    \n",
      "3            Rudra Verma                 NaN          Rudra Verma    \n",
      "4     Shivaji Bhai Patel                 NaN   Shivaji Bhai Patel    \n",
      "..                   ...                 ...                   ...   \n",
      "87         Sandesh Kumar                 NaN        Sandesh Kumar    \n",
      "88           ANKIT KUMAR                 NaN           ANKIT KUMAR   \n",
      "89    SANTOSH KUMAR SAHU                 NaN    Santosh Kumar Sahu   \n",
      "90       DHANANJAY SINGH                 NaN      Dhananjay Singh    \n",
      "91         Avneesh Kumar                 NaN        Avneesh Kumar    \n",
      "\n",
      "     ROLL NUMBER           ERP ID               Email ID          BRANCH  \\\n",
      "0   2.401330e+12  CYBER SECURITY   0241cys090@niet.co.in  Cybersecurity    \n",
      "1   2.401330e+12       0241cse367  0241cse367@niet.co.in             CSE   \n",
      "2   2.401330e+12       0241cse304  0241cse304@niet.co.in             CSE   \n",
      "3   2.401330e+12       0241cse142   0241cse142@gmail.com             CSE   \n",
      "4   2.401330e+12       0241cse268  0241cse268@niet.co.in             CSE   \n",
      "..           ...              ...                    ...             ...   \n",
      "87  2.401330e+12       0241cse263  0241cse263@niet.co.in             CSE   \n",
      "88  2.401330e+12       0241cse104  0241cse104@niet.co.in             CSE   \n",
      "89  2.401330e+12       0241CSE024  0241cse024@niet.co.in             CSE   \n",
      "90  2.401330e+12       0241cse009  0241cse009@niet.co.in             CSE   \n",
      "91  2.401330e+12       0241cse074  0241cse074@niet.co.in             CSE   \n",
      "\n",
      "   SECTION MARKS IN ENGLISH MARKS IN MATHS-1 MARKS IN BEEE/PHYSICS  \\\n",
      "0        A              100               90                    80   \n",
      "1        G               95               94                    96   \n",
      "2        F               97               93                    73   \n",
      "3        E               90               80                    85   \n",
      "4        B               98               70                    70   \n",
      "..     ...              ...              ...                   ...   \n",
      "87       D               80               85                    63   \n",
      "88       G               95               85                    82   \n",
      "89       A               98               81                    76   \n",
      "90       C               81               80                    75   \n",
      "91       G               90               33                    32   \n",
      "\n",
      "   MARKS IN DESIGN THINKING-1 TOTAL MARKS  \n",
      "0                          30         300  \n",
      "1                          97         382  \n",
      "2                          88         351  \n",
      "3                          75         330  \n",
      "4                          31         269  \n",
      "..                        ...         ...  \n",
      "87                         82         310  \n",
      "88                         79         400  \n",
      "89                         82         337  \n",
      "90                         75         311  \n",
      "91                         78         233  \n",
      "\n",
      "[92 rows x 17 columns]\n"
     ]
    }
   ],
   "source": [
    "x.rename(columns={'OFFICIAL MAIL-ID': 'Email ID'}, inplace=True)\n",
    "print(x)\n"
   ]
  },
  {
   "cell_type": "code",
   "execution_count": 28,
   "id": "54a9eae2-d5ab-48bb-ab35-54bb2ff1245a",
   "metadata": {},
   "outputs": [
    {
     "ename": "TypeError",
     "evalue": "unsupported operand type(s) for /: 'list' and 'int'",
     "output_type": "error",
     "traceback": [
      "\u001b[31m---------------------------------------------------------------------------\u001b[39m",
      "\u001b[31mTypeError\u001b[39m                                 Traceback (most recent call last)",
      "\u001b[36mCell\u001b[39m\u001b[36m \u001b[39m\u001b[32mIn[28]\u001b[39m\u001b[32m, line 1\u001b[39m\n\u001b[32m----> \u001b[39m\u001b[32m1\u001b[39m x[\u001b[33m'\u001b[39m\u001b[33mSGPA\u001b[39m\u001b[33m'\u001b[39m] = x(\u001b[43m[\u001b[49m\u001b[33;43m'\u001b[39;49m\u001b[33;43mTOTAL MARKS\u001b[39;49m\u001b[33;43m'\u001b[39;49m\u001b[43m]\u001b[49m\u001b[43m \u001b[49m\u001b[43m/\u001b[49m\u001b[43m \u001b[49m\u001b[32;43m10\u001b[39;49m)\n",
      "\u001b[31mTypeError\u001b[39m: unsupported operand type(s) for /: 'list' and 'int'"
     ]
    }
   ],
   "source": [
    "x['SGPA'] = x['TOTAL MARKS'] / 10"
   ]
  },
  {
   "cell_type": "code",
   "execution_count": null,
   "id": "d24337d2-e8da-4fce-ad86-0a5f442eae60",
   "metadata": {},
   "outputs": [],
   "source": []
  }
 ],
 "metadata": {
  "kernelspec": {
   "display_name": "Python 3 (ipykernel)",
   "language": "python",
   "name": "python3"
  },
  "language_info": {
   "codemirror_mode": {
    "name": "ipython",
    "version": 3
   },
   "file_extension": ".py",
   "mimetype": "text/x-python",
   "name": "python",
   "nbconvert_exporter": "python",
   "pygments_lexer": "ipython3",
   "version": "3.13.4"
  }
 },
 "nbformat": 4,
 "nbformat_minor": 5
}
