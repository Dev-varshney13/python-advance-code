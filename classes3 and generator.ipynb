{
 "cells": [
  {
   "cell_type": "code",
   "execution_count": 1,
   "id": "f425f0e0-2c73-423e-bc1c-6ea3ffbdb0f3",
   "metadata": {},
   "outputs": [
    {
     "name": "stdout",
     "output_type": "stream",
     "text": [
      "B.method() called\n",
      "[<class '__main__.B'>, <class '__main__.A'>, <class 'object'>]\n"
     ]
    }
   ],
   "source": [
    "class A:\n",
    "    def method(self):\n",
    "        print(\"A.method() called\")\n",
    "class B(A):\n",
    "    def method(self):\n",
    "        print(\"B.method() called\")\n",
    "b=B()\n",
    "b.method()\n",
    "print(B.mro())\n"
   ]
  },
  {
   "cell_type": "code",
   "execution_count": 5,
   "id": "e6ccaa81-edac-40bd-b81d-571e8ff82ce0",
   "metadata": {},
   "outputs": [
    {
     "name": "stdout",
     "output_type": "stream",
     "text": [
      "A.method() called\n",
      "[<class '__main__.C'>, <class '__main__.B'>, <class '__main__.A'>, <class 'object'>]\n"
     ]
    }
   ],
   "source": [
    "class A:\n",
    "    def method(self):\n",
    "        print(\"A.method() called\")\n",
    "class B:\n",
    "    pass\n",
    "class C(B,A):\n",
    "    pass\n",
    "c=C()\n",
    "c.method()\n",
    "print(C.mro())"
   ]
  },
  {
   "cell_type": "code",
   "execution_count": 8,
   "id": "4a02f5f6-b412-4e0d-8c2f-7607e9df7036",
   "metadata": {},
   "outputs": [
    {
     "name": "stdout",
     "output_type": "stream",
     "text": [
      "A.method() called\n",
      "[<class '__main__.D'>, <class '__main__.C'>, <class '__main__.A'>, <class '__main__.B'>, <class 'object'>]\n"
     ]
    }
   ],
   "source": [
    "class A:\n",
    "    def method(self):\n",
    "        print(\"A.method() called\")\n",
    "class B:\n",
    "    def method(self):\n",
    "        print(\"B.method() called\")\n",
    "class C(A,B):\n",
    "    pass\n",
    "class D(C,B):\n",
    "    pass\n",
    "d=D()\n",
    "d.method()\n",
    "print(D.mro())\n",
    "    "
   ]
  },
  {
   "cell_type": "markdown",
   "id": "d1dc8e83-4a10-47ae-bb6f-36b34b0f891d",
   "metadata": {},
   "source": [
    "Abstract class\n",
    "1-an abstract class is a class that cannot be instantionated howerever you can create class that inherit from an abstract class.\n",
    "2-we use Ac to create a blueprint for other class \n",
    "3-similarly an abstract method is a method without an implication\n",
    "4-an abstract class may or may not include abstract method.\n"
   ]
  },
  {
   "cell_type": "code",
   "execution_count": 9,
   "id": "d3da4992-4f48-4da7-86da-f75db9b0f4da",
   "metadata": {},
   "outputs": [
    {
     "name": "stdout",
     "output_type": "stream",
     "text": [
      "120\n"
     ]
    }
   ],
   "source": [
    "from abc import ABC,abstractmethod\n",
    "class shape(ABC):\n",
    "    @abstractmethod\n",
    "    def area(self):\n",
    "        return 0\n",
    "class Rectangle(shape):\n",
    "    def __init__(self):\n",
    "        self.length = 10\n",
    "        self.breadth= 12\n",
    "    def area(self):\n",
    "        return self.length * self.breadth\n",
    "rec=Rectangle()\n",
    "print(rec.area())"
   ]
  },
  {
   "cell_type": "code",
   "execution_count": 17,
   "id": "ca90ae2f-5547-4916-bb7e-7c3292ff2520",
   "metadata": {},
   "outputs": [
    {
     "name": "stdout",
     "output_type": "stream",
     "text": [
      "4\n",
      "6\n",
      "5\n"
     ]
    }
   ],
   "source": [
    "#create an abstract class polygon ,create a abstract  method that tell us number of sides in polygon\n",
    "#inherit the class in pentagon,hexagon,quadrilateral\n",
    "from abc import ABC,abstractmethod\n",
    "class polygon(ABC):\n",
    "    @abstractmethod\n",
    "    def nos(self):\n",
    "        return 0\n",
    "class pentagon(polygon):\n",
    "    def __init__(self):\n",
    "        self.n = 5\n",
    "    def nos(self):\n",
    "        return self.n\n",
    "class hexagon(polygon):\n",
    "    def __init__(self):\n",
    "        self.n=6\n",
    "    def nos(self):\n",
    "        return self.n\n",
    "class quad(polygon):\n",
    "    def __init__(self):\n",
    "        self.n=4\n",
    "    def nos(self):\n",
    "        return self.n   \n",
    "p1=quad()\n",
    "print(p1.nos())\n",
    "p2=hexagon()\n",
    "print(p2.nos())\n",
    "p3=pentagon()\n",
    "print(p3.nos())\n",
    "    "
   ]
  },
  {
   "cell_type": "markdown",
   "id": "d1711aac-0925-4693-9b94-a355bcf268ac",
   "metadata": {},
   "source": [
    "POLYMORPHISM:\n",
    "    poly---> many\n",
    "    Morph ---> ability to change\n",
    "polymorphism in python is the ability of object to take many form .\n",
    "polymorphism allows to perform same action in many different ways.\n",
    "\n",
    "Types of polymorphism:\n",
    "1.polymorphism in operator\n",
    "2.polymorphism in Built in function \n",
    "3.--------------in class method\n",
    "4.--------------in inheritance\n",
    "5.method overloading \n",
    "6.operator overloading\n",
    "\n",
    "\n",
    "Polymorphism in operator:\n",
    "1.'+'    int     3+2=5 \n",
    "         string  Tea+cher=teacher\n",
    "\n",
    "2. '*'   int     3*2=6\n",
    "         string  Tea*2=TeaTea\n",
    "\n",
    "\n",
    "※ Polymorphism in built in function-  len\n",
    "\n",
    "※ Polymorphism in class method\n",
    "   \n",
    "\n",
    "\n",
    "      \n"
   ]
  },
  {
   "cell_type": "code",
   "execution_count": 29,
   "id": "9314a4c6-74ed-4630-ba96-2ef6bbb37070",
   "metadata": {},
   "outputs": [
    {
     "name": "stdout",
     "output_type": "stream",
     "text": [
      "[2, 4]\n"
     ]
    }
   ],
   "source": [
    "a=[2,4,5]\n",
    "a.pop()\n",
    "print(a)"
   ]
  },
  {
   "cell_type": "code",
   "execution_count": 27,
   "id": "30b944fa-bd31-42a2-9459-c73a76b8a162",
   "metadata": {},
   "outputs": [
    {
     "name": "stdout",
     "output_type": "stream",
     "text": [
      "petrol\n",
      "max speed is 240\n",
      "diesel\n",
      "max speed is 350\n"
     ]
    }
   ],
   "source": [
    "#polymorphism in class method\n",
    "class ferrari:\n",
    "    def fuel_type(self):\n",
    "        print(\"petrol\")\n",
    "    def max_speed(self):\n",
    "        print(\"max speed is 240\")\n",
    "class bmw:\n",
    "    def fuel_type(self):\n",
    "        print(\"diesel\")\n",
    "    def max_speed(self):\n",
    "        print(\"max speed is 350\")\n",
    "ferr=ferrari()\n",
    "bm=bmw()\n",
    "for car in (ferr,bm):\n",
    "    car.fuel_type()\n",
    "    car.max_speed()"
   ]
  },
  {
   "cell_type": "markdown",
   "id": "7152e420-6f11-4e88-b984-16836a7f3075",
   "metadata": {},
   "source": [
    "Encapsulation\n",
    "\n",
    "1. Encapsulation is a mechanism of wraping the data(variables) and code acting on the data(method)"
   ]
  },
  {
   "cell_type": "code",
   "execution_count": 36,
   "id": "a1e5ed59-0afe-413d-a7e1-afe214595b3f",
   "metadata": {},
   "outputs": [
    {
     "name": "stdout",
     "output_type": "stream",
     "text": [
      "selling Price:1000\n",
      "selling Price:9000\n"
     ]
    }
   ],
   "source": [
    "class computer:\n",
    "    def __init__(self):\n",
    "        self.__maxprice=1000\n",
    "    def sell(self):\n",
    "        print(\"selling Price:{}\".format(self.__maxprice))\n",
    "    def set_max_price(self,price):\n",
    "        self.__maxprice=price\n",
    "c=computer()\n",
    "c.sell()\n",
    "c.set_max_price(9000)\n",
    "c.sell()"
   ]
  },
  {
   "cell_type": "markdown",
   "id": "bde2bd59-6d9c-4cb5-ba28-d71452fb09f8",
   "metadata": {},
   "source": [
    "ACCESS MODIFIERS IN PYTHON\n",
    "1.PUBLIC\n",
    "2.PROTECTED\n",
    "3.PRIVATE\n",
    "\n",
    "\n",
    "※PROTECTED MODIFIER\n",
    "The members of a class that are declared protected are only accessible to a class derived from it\n",
    "1. Data members of a class are declared protected by adding 'a single underscoe_' symbol before data member of that class\n",
    "   "
   ]
  },
  {
   "cell_type": "markdown",
   "id": "52f5816f-5efc-4eb3-967a-5021ca685485",
   "metadata": {},
   "source": [
    "class Student:\n",
    "    _name=None\n",
    "    _rollno=None\n",
    "    _branch=None\n",
    "    def __init__(self,name,rollno,branch):\n",
    "        self._name=name\n",
    "        self._rollno=rollno\n",
    "        self._branch=branch\n",
    "\n",
    "    def displayinfo(self):\n",
    "        print(\"Roll No :\",self._roll)\n",
    "        print(\"Name :\",self._name)\n",
    "        print(\"Branch :\",self._branch)\n",
    "class NIET(Student):\n",
    "    def __init__(self,name,roll,branch):\n",
    "        Student.__init__(self,name,roll,branch)\n",
    "    def displayinfo(self):\n",
    "        print(\"Name:\",self._name)\n",
    "        self.displayinfo()\n",
    "N=NIET('xyz',103,'cse')\n",
    "N.displayinfo()\n"
   ]
  },
  {
   "cell_type": "code",
   "execution_count": 2,
   "id": "4d372a7c-4b5b-4b53-935e-6c3bf118af86",
   "metadata": {},
   "outputs": [
    {
     "name": "stdout",
     "output_type": "stream",
     "text": [
      "['__add__', '__class__', '__class_getitem__', '__contains__', '__delattr__', '__delitem__', '__dir__', '__doc__', '__eq__', '__format__', '__ge__', '__getattribute__', '__getitem__', '__getstate__', '__gt__', '__hash__', '__iadd__', '__imul__', '__init__', '__init_subclass__', '__iter__', '__le__', '__len__', '__lt__', '__mul__', '__ne__', '__new__', '__reduce__', '__reduce_ex__', '__repr__', '__reversed__', '__rmul__', '__setattr__', '__setitem__', '__sizeof__', '__str__', '__subclasshook__', 'append', 'clear', 'copy', 'count', 'extend', 'index', 'insert', 'pop', 'remove', 'reverse', 'sort']\n"
     ]
    }
   ],
   "source": [
    "A=[1,2,3,4]\n",
    "print(dir(A))"
   ]
  },
  {
   "cell_type": "code",
   "execution_count": 3,
   "id": "8848f5d3-1c1f-48b2-be78-0b8452d313fa",
   "metadata": {},
   "outputs": [
    {
     "name": "stdout",
     "output_type": "stream",
     "text": [
      "['__abs__', '__add__', '__and__', '__bool__', '__ceil__', '__class__', '__delattr__', '__dir__', '__divmod__', '__doc__', '__eq__', '__float__', '__floor__', '__floordiv__', '__format__', '__ge__', '__getattribute__', '__getnewargs__', '__getstate__', '__gt__', '__hash__', '__index__', '__init__', '__init_subclass__', '__int__', '__invert__', '__le__', '__lshift__', '__lt__', '__mod__', '__mul__', '__ne__', '__neg__', '__new__', '__or__', '__pos__', '__pow__', '__radd__', '__rand__', '__rdivmod__', '__reduce__', '__reduce_ex__', '__repr__', '__rfloordiv__', '__rlshift__', '__rmod__', '__rmul__', '__ror__', '__round__', '__rpow__', '__rrshift__', '__rshift__', '__rsub__', '__rtruediv__', '__rxor__', '__setattr__', '__sizeof__', '__str__', '__sub__', '__subclasshook__', '__truediv__', '__trunc__', '__xor__', 'as_integer_ratio', 'bit_count', 'bit_length', 'conjugate', 'denominator', 'from_bytes', 'imag', 'is_integer', 'numerator', 'real', 'to_bytes']\n"
     ]
    }
   ],
   "source": [
    "x=10\n",
    "print(dir(x))"
   ]
  },
  {
   "cell_type": "code",
   "execution_count": 5,
   "id": "df1b3bfc-9dba-4e99-8ae8-fd2ff7ba4158",
   "metadata": {},
   "outputs": [
    {
     "name": "stdout",
     "output_type": "stream",
     "text": [
      "['__class__', '__delattr__', '__dir__', '__doc__', '__eq__', '__format__', '__ge__', '__getattribute__', '__getstate__', '__gt__', '__hash__', '__init__', '__init_subclass__', '__iter__', '__le__', '__length_hint__', '__lt__', '__ne__', '__new__', '__next__', '__reduce__', '__reduce_ex__', '__repr__', '__setattr__', '__setstate__', '__sizeof__', '__str__', '__subclasshook__']\n"
     ]
    }
   ],
   "source": [
    "a=[3,5,8,6]\n",
    "value=a.__iter__()\n",
    "print(dir(value))"
   ]
  },
  {
   "cell_type": "markdown",
   "id": "53fcade1-b400-4fff-8f8a-a8a9a5712bda",
   "metadata": {},
   "source": [
    "iter() and next() method in python:\n",
    "iter(): syntax: iter(object,sentine)\n",
    "iter() function creates an object which can be iterated one element at a time\n",
    "object--> object whose iterable has to be created(tuple,list,etc)\n",
    "sentinel(optional)--> special value that used to represent at the end of sequence"
   ]
  },
  {
   "cell_type": "code",
   "execution_count": 11,
   "id": "daa8abd3-a0b4-4281-bd40-b0fdfff0d039",
   "metadata": {},
   "outputs": [
    {
     "name": "stdout",
     "output_type": "stream",
     "text": [
      "<list_iterator object at 0x0000014D4240CFA0>\n",
      "['__add__', '__class__', '__class_getitem__', '__contains__', '__delattr__', '__delitem__', '__dir__', '__doc__', '__eq__', '__format__', '__ge__', '__getattribute__', '__getitem__', '__getstate__', '__gt__', '__hash__', '__iadd__', '__imul__', '__init__', '__init_subclass__', '__iter__', '__le__', '__len__', '__lt__', '__mul__', '__ne__', '__new__', '__reduce__', '__reduce_ex__', '__repr__', '__reversed__', '__rmul__', '__setattr__', '__setitem__', '__sizeof__', '__str__', '__subclasshook__', 'append', 'clear', 'copy', 'count', 'extend', 'index', 'insert', 'pop', 'remove', 'reverse', 'sort']\n",
      "['__class__', '__delattr__', '__dir__', '__doc__', '__eq__', '__format__', '__ge__', '__getattribute__', '__getstate__', '__gt__', '__hash__', '__init__', '__init_subclass__', '__iter__', '__le__', '__length_hint__', '__lt__', '__ne__', '__new__', '__next__', '__reduce__', '__reduce_ex__', '__repr__', '__setattr__', '__setstate__', '__sizeof__', '__str__', '__subclasshook__']\n"
     ]
    }
   ],
   "source": [
    "x=[1,2,3,4,5,6,7,8]\n",
    "value =x.__iter__()\n",
    "print(value)\n",
    "print(dir(x))\n",
    "print(dir(value))"
   ]
  },
  {
   "cell_type": "code",
   "execution_count": 15,
   "id": "888d76bd-7e44-4596-9e15-7eec9a460f31",
   "metadata": {},
   "outputs": [
    {
     "name": "stdout",
     "output_type": "stream",
     "text": [
      "1\n",
      "2\n",
      "3\n",
      "4\n"
     ]
    }
   ],
   "source": [
    "x=[1,2,3,4]\n",
    "value =x.__iter__()\n",
    "item1=value.__next__()\n",
    "print(item1)\n",
    "item2=value.__next__()\n",
    "print(item2)\n",
    "item3=value.__next__()\n",
    "print(item3)\n",
    "item4=value.__next__()\n",
    "print(item4)\n",
    "\n"
   ]
  },
  {
   "cell_type": "code",
   "execution_count": 17,
   "id": "12e7ac84-1d42-401a-9397-de3cc2bbbbf1",
   "metadata": {},
   "outputs": [
    {
     "name": "stdout",
     "output_type": "stream",
     "text": [
      "1\n",
      "p\n"
     ]
    }
   ],
   "source": [
    "number = [1,2,3,4]\n",
    "value=iter(number)\n",
    "item1=next(value)\n",
    "print(item1)\n",
    "\n",
    "st='python'\n",
    "it2=iter(st)\n",
    "print(next(it2))"
   ]
  },
  {
   "cell_type": "code",
   "execution_count": 20,
   "id": "48d383f4-0e20-4881-b1f1-c352a9b17398",
   "metadata": {},
   "outputs": [
    {
     "name": "stdout",
     "output_type": "stream",
     "text": [
      "j\n",
      "y\n",
      "f\n",
      "y\n",
      "j\n",
      "f\n",
      "k\n",
      "h\n",
      "k\n",
      "h\n",
      "g\n"
     ]
    }
   ],
   "source": [
    "#customize for__loop\n",
    "def customize__for__loop(iterable,action):\n",
    "    iterator=iter(iterable)\n",
    "    done_looping = False\n",
    "    while not done_looping:\n",
    "        try:\n",
    "            item=next(iterator)\n",
    "        except StopIteration:\n",
    "            done_looping=True\n",
    "        else:\n",
    "            action(item)\n",
    "numbers='jyfyjfkhkhg'\n",
    "customize__for__loop(numbers,print)"
   ]
  },
  {
   "cell_type": "code",
   "execution_count": 5,
   "id": "160ac7cb-3b4e-4415-b5bb-e13945ddcc20",
   "metadata": {},
   "outputs": [
    {
     "name": "stdout",
     "output_type": "stream",
     "text": [
      "2\n",
      "3\n",
      "5\n",
      "8\n",
      "13\n"
     ]
    }
   ],
   "source": [
    "#program to create iterator for fibbonacci series\n",
    "class fib:\n",
    "    def __init__(self,stop):\n",
    "        self.a=1\n",
    "        self.b=1\n",
    "        self.n=0\n",
    "        self.stop=stop\n",
    "    def __iter__(self):\n",
    "        return self\n",
    "    def __next__(self):\n",
    "        self.n+=1\n",
    "        if self.n<=self.stop:\n",
    "            c=self.a+self.b\n",
    "            self.a=self.b\n",
    "            self.b=c\n",
    "            return c\n",
    "        else:\n",
    "            raise StopIteration\n",
    "f1=fib(5)\n",
    "f1=iter(f1)\n",
    "print(next(f1))\n",
    "print(next(f1))\n",
    "print(next(f1))\n",
    "print(next(f1))\n",
    "print(next(f1))\n",
    "\n",
    "\n",
    "    "
   ]
  },
  {
   "cell_type": "markdown",
   "id": "a95493c0-6f13-4a0c-9af6-e78bb8907b47",
   "metadata": {},
   "source": [
    "Genrator function\n",
    "create iteratorn and return a traversal object it help us to traverse all the item one at a time present in the iterator.\n",
    "generator function are normally define as the normal function but to identify the difference b/w normal function and generator function.\n",
    "\n",
    "Normal function - return\n",
    "Generator function - yield\n",
    "    "
   ]
  },
  {
   "cell_type": "code",
   "execution_count": 7,
   "id": "1666316e-4e5f-4454-96f1-d868ffe28c16",
   "metadata": {
    "scrolled": true
   },
   "outputs": [
    {
     "name": "stdout",
     "output_type": "stream",
     "text": [
      "<class 'function'>\n",
      "<class 'generator'>\n",
      "Function Begins\n",
      "0\n",
      "Function Continue\n",
      "1\n"
     ]
    }
   ],
   "source": [
    "def fun1():\n",
    "    i=0\n",
    "    print(\"Function Begins\")\n",
    "    yield i\n",
    "    i+=1\n",
    "    print(\"Function Continue\")\n",
    "    yield i\n",
    "    \n",
    "ob1= fun1()\n",
    "print(type(fun1))\n",
    "print(type(ob1))\n",
    "print(next(ob1))\n",
    "print(next(ob1))\n",
    "\n"
   ]
  },
  {
   "cell_type": "code",
   "execution_count": null,
   "id": "cb0cbd84-9386-448e-a5c0-7f378484ac07",
   "metadata": {},
   "outputs": [],
   "source": []
  }
 ],
 "metadata": {
  "kernelspec": {
   "display_name": "Python 3 (ipykernel)",
   "language": "python",
   "name": "python3"
  },
  "language_info": {
   "codemirror_mode": {
    "name": "ipython",
    "version": 3
   },
   "file_extension": ".py",
   "mimetype": "text/x-python",
   "name": "python",
   "nbconvert_exporter": "python",
   "pygments_lexer": "ipython3",
   "version": "3.13.4"
  }
 },
 "nbformat": 4,
 "nbformat_minor": 5
}
