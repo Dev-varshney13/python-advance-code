{
 "cells": [
  {
   "cell_type": "code",
   "execution_count": 2,
   "id": "06032627-fd44-4a01-a143-d17f91157dd8",
   "metadata": {},
   "outputs": [
    {
     "name": "stdout",
     "output_type": "stream",
     "text": [
      "(5, 25)\n"
     ]
    }
   ],
   "source": [
    "def deco_add(fun):\n",
    "    def sqr(a,y):\n",
    "        c=fun(a,y)\n",
    "        return c,c**2\n",
    "    return sqr\n",
    "@deco_add\n",
    "def add(a,y):\n",
    "    return a+y\n",
    "print(add(3,2))\n",
    "    "
   ]
  },
  {
   "cell_type": "code",
   "execution_count": null,
   "id": "52df2837-0f63-476f-a5a8-8bf599816ee0",
   "metadata": {},
   "outputs": [],
   "source": []
  },
  {
   "cell_type": "code",
   "execution_count": 2,
   "id": "20b27e43-e4d6-4007-95c6-20f073eea446",
   "metadata": {},
   "outputs": [
    {
     "name": "stdout",
     "output_type": "stream",
     "text": [
      "the area of rectangle having length 4 and breadth 7 is: 28\n"
     ]
    }
   ],
   "source": [
    "class Rectangle:\n",
    "    def __init__(self,l,b):\n",
    "        self.l=l\n",
    "        self.b=b\n",
    "    def area(self):\n",
    "        area=self.l*self.b\n",
    "        return area\n",
    "a=4\n",
    "b=7\n",
    "p1=Rectangle(a,b)\n",
    "print (f\"the area of rectangle having length {a} and breadth {b} is:\",p1.area())\n",
    "        \n",
    "    "
   ]
  },
  {
   "cell_type": "code",
   "execution_count": 1,
   "id": "fb16aa3c-9767-4248-bce7-8d8696946ac8",
   "metadata": {},
   "outputs": [
    {
     "name": "stdout",
     "output_type": "stream",
     "text": [
      "average marks of nisha is 10500.0\n"
     ]
    }
   ],
   "source": [
    "class student:\n",
    "    def __init__(self,name,maths,physics):\n",
    "        self.name=name\n",
    "        self.maths=maths\n",
    "        self.physics=physics\n",
    "    def avg(self):\n",
    "        avg=(self.maths+self.physics)/2\n",
    "        print(f\"average marks of {self.name} is\",avg)\n",
    "p1=student(\"nisha\",1000,20000)\n",
    "p1.avg()"
   ]
  },
  {
   "cell_type": "code",
   "execution_count": 9,
   "id": "8b697e2e-feb5-42af-8127-1165975bcdf2",
   "metadata": {},
   "outputs": [
    {
     "name": "stdout",
     "output_type": "stream",
     "text": [
      "Name: dev, Age: 20\n"
     ]
    }
   ],
   "source": [
    "from datetime import date\n",
    "class student:\n",
    "    def __init__(self,name,age):\n",
    "        self.name=name\n",
    "        self.age=age\n",
    "    @classmethod\n",
    "    def calculate_age(cls,name,birth_year):\n",
    "        return cls(name,date.today().year-birth_year)\n",
    "    def display(self):\n",
    "        print(f\"Name: {self.name}, Age: {self.age}\")\n",
    "s1=student.calculate_age(\"dev\",2005)\n",
    "s1.display()\n",
    "        \n",
    "        \n",
    "    "
   ]
  },
  {
   "cell_type": "code",
   "execution_count": 3,
   "id": "9803d141-71ab-467c-95bb-6ff25091ce95",
   "metadata": {},
   "outputs": [
    {
     "ename": "NameError",
     "evalue": "name 'NIET' is not defined",
     "output_type": "error",
     "traceback": [
      "\u001b[31m---------------------------------------------------------------------------\u001b[39m",
      "\u001b[31mNameError\u001b[39m                                 Traceback (most recent call last)",
      "\u001b[36mCell\u001b[39m\u001b[36m \u001b[39m\u001b[32mIn[3]\u001b[39m\u001b[32m, line 1\u001b[39m\n\u001b[32m----> \u001b[39m\u001b[32m1\u001b[39m \u001b[38;5;28;43;01mclass\u001b[39;49;00m\u001b[38;5;250;43m \u001b[39;49m\u001b[34;43;01mNIET\u001b[39;49;00m\u001b[43m:\u001b[49m\n\u001b[32m      2\u001b[39m \u001b[43m    \u001b[49m\u001b[43mbranch_name\u001b[49m\u001b[43m=\u001b[49m\u001b[33;43m'\u001b[39;49m\u001b[33;43mcomputer science\u001b[39;49m\u001b[33;43m'\u001b[39;49m\n\u001b[32m      4\u001b[39m \u001b[43m    \u001b[49m\u001b[38;5;28;43;01mdef\u001b[39;49;00m\u001b[38;5;250;43m \u001b[39;49m\u001b[34;43m__init__\u001b[39;49m\u001b[43m(\u001b[49m\u001b[38;5;28;43mself\u001b[39;49m\u001b[43m,\u001b[49m\u001b[43mname\u001b[49m\u001b[43m,\u001b[49m\u001b[43mage\u001b[49m\u001b[43m)\u001b[49m\u001b[43m:\u001b[49m\n",
      "\u001b[36mCell\u001b[39m\u001b[36m \u001b[39m\u001b[32mIn[3]\u001b[39m\u001b[32m, line 14\u001b[39m, in \u001b[36mNIET\u001b[39m\u001b[34m()\u001b[39m\n\u001b[32m     12\u001b[39m \u001b[38;5;28;01mdef\u001b[39;00m\u001b[38;5;250m \u001b[39m\u001b[34mdisplay\u001b[39m(\u001b[38;5;28mself\u001b[39m):\n\u001b[32m     13\u001b[39m     \u001b[38;5;28mprint\u001b[39m(\u001b[38;5;28mself\u001b[39m.name,\u001b[38;5;28mself\u001b[39m.branch_name)\n\u001b[32m---> \u001b[39m\u001b[32m14\u001b[39m s1= \u001b[43mNIET\u001b[49m(\u001b[33m\"\u001b[39m\u001b[33mDEV\u001b[39m\u001b[33m\"\u001b[39m,\u001b[32m20\u001b[39m)\n\u001b[32m     15\u001b[39m s1.display()\n\u001b[32m     16\u001b[39m s1.change_branch(\u001b[33m'\u001b[39m\u001b[33maiml\u001b[39m\u001b[33m'\u001b[39m)\n",
      "\u001b[31mNameError\u001b[39m: name 'NIET' is not defined"
     ]
    }
   ],
   "source": [
    "class NIET:\n",
    "    branch_name='computer science'\n",
    "\n",
    "    def __init__(self,name,age):\n",
    "        self.name=name\n",
    "        self.age=age\n",
    "\n",
    "    @classmethod\n",
    "    def change_branch(cls,branch_name):\n",
    "        NIET.branch_name_= branch_name\n",
    "\n",
    "    def display(self):\n",
    "        print(self.name,self.branch_name)\n",
    "    s1= NIET(\"DEV\",20)\n",
    "    s1.display()\n",
    "    s1.change_branch('aiml')\n",
    "    s1.display()"
   ]
  },
  {
   "cell_type": "code",
   "execution_count": 17,
   "id": "a4fc4b18-dca8-4d11-80e9-23d62469a75a",
   "metadata": {},
   "outputs": [
    {
     "name": "stdout",
     "output_type": "stream",
     "text": [
      "231 has been deposit in your account\n",
      "Available balance: 300231\n",
      "100 has been withdrawl from your account\n",
      "Available balance: 300131\n"
     ]
    }
   ],
   "source": [
    "class bank_account:\n",
    "    sr_n=0\n",
    "    branch=\"virtual bank\"\n",
    "    bank_name=0\n",
    "    next_account_no.=1001\n",
    "    \n",
    "    def __init__(self,account_no,name,balance):\n",
    "        self.account_no=account_no\n",
    "        self.name=name\n",
    "        self.balance=balance\n",
    "        self.sr_n+=1\n",
    "\n",
    "    def deposit(self,amount):\n",
    "        self.amount=amount\n",
    "        self.balance+=amount\n",
    "        print(f\"{self.amount} has been deposit in your account\")\n",
    "        print(\"Available balance:\",self.prin())\n",
    "        \n",
    "    def withdrawl(self,amount):\n",
    "        self.amount=amount\n",
    "        self.balance-=amount\n",
    "        print(f\"{self.amount} has been withdrawl from your account\")\n",
    "        print(\"Available balance:\",self.balance())\n",
    "\n",
    "\n",
    "\n",
    "d1 = bank_account(3523451235,'dev',300000)\n",
    "d1.deposit(231)\n",
    "d1.withdrawl(100)\n"
   ]
  },
  {
   "cell_type": "code",
   "execution_count": 2,
   "id": "c09d9449-93bb-4464-aadd-59172cc53ba9",
   "metadata": {},
   "outputs": [
    {
     "name": "stdout",
     "output_type": "stream",
     "text": [
      "inside static method 10\n",
      "inside static method 10\n"
     ]
    }
   ],
   "source": [
    "#static method in python\n",
    "class employee:\n",
    "    @staticmethod\n",
    "    def sample(x):\n",
    "        print(\"inside static method\",x)\n",
    "employee.sample(10)\n",
    "emp=employee()\n",
    "emp.sample(10)  "
   ]
  },
  {
   "cell_type": "code",
   "execution_count": 4,
   "id": "fdb034a0-1570-4909-aafb-e9589d0b0e29",
   "metadata": {},
   "outputs": [
    {
     "name": "stdout",
     "output_type": "stream",
     "text": [
      "5\n",
      "10\n",
      "20\n",
      "<__main__.A object at 0x000001C62FF381A0>\n"
     ]
    }
   ],
   "source": [
    "class A:\n",
    "    x=10\n",
    "    def __init__(self,x):\n",
    "        self.x=x\n",
    "    def display(x):\n",
    "        return x\n",
    "a=A(5)\n",
    "print(a.x)\n",
    "print(A.x)\n",
    "print(A.display(20))\n",
    "print(a.display())"
   ]
  },
  {
   "cell_type": "code",
   "execution_count": 15,
   "id": "8ac7780d-cb04-44ba-8b89-7a03381bae45",
   "metadata": {},
   "outputs": [
    {
     "name": "stdin",
     "output_type": "stream",
     "text": [
      "enter the subject of your choice: ds\n"
     ]
    },
    {
     "name": "stdout",
     "output_type": "stream",
     "text": [
      "option Available \n"
     ]
    },
    {
     "name": "stdin",
     "output_type": "stream",
     "text": [
      "enter your name: dev varshney\n",
      "enter your roll no. 242\n"
     ]
    },
    {
     "name": "stdout",
     "output_type": "stream",
     "text": [
      "----------student information----------\n",
      "Name of student : dev varshney\n",
      "Roll no of student : 242\n",
      "subject is alloted : ds\n"
     ]
    }
   ],
   "source": [
    "#write a program for allotment of electric subject after validating the available choice\n",
    "class choice:\n",
    "    def __init__(self,n,r,subject):\n",
    "        self.name=n\n",
    "        self.roll=r\n",
    "        self.subject=subject\n",
    "    def display(self):\n",
    "        print(\"----------student information----------\")\n",
    "        print(\"Name of student :\",self.name)\n",
    "        print(\"Roll no of student :\",self.roll)\n",
    "        print(\"subject is alloted :\",self.subject)\n",
    "    @staticmethod\n",
    "    def validate_subject(subject,x):\n",
    "        if x in subject:\n",
    "            print(\"option Available \")\n",
    "            return True\n",
    "        else:\n",
    "            print(\"Option is not available\")\n",
    "            return False\n",
    "subject = [\"tafl\",\"ds\",\"coa\",\"dld\"]\n",
    "sub=input(\"enter the subject of your choice:\").lower()\n",
    "if choice.validate_subject(subject,sub):\n",
    "    name=input(\"enter your name:\")\n",
    "    roll=int(input(\"enter your roll no.\"))\n",
    "    c=choice(name,roll,sub)\n",
    "    c.display()\n",
    "    "
   ]
  },
  {
   "cell_type": "code",
   "execution_count": 16,
   "id": "21b7654b-4f2e-4165-b5f1-58a67180912a",
   "metadata": {},
   "outputs": [
    {
     "data": {
      "text/plain": [
       "['__abs__',\n",
       " '__add__',\n",
       " '__and__',\n",
       " '__bool__',\n",
       " '__ceil__',\n",
       " '__class__',\n",
       " '__delattr__',\n",
       " '__dir__',\n",
       " '__divmod__',\n",
       " '__doc__',\n",
       " '__eq__',\n",
       " '__float__',\n",
       " '__floor__',\n",
       " '__floordiv__',\n",
       " '__format__',\n",
       " '__ge__',\n",
       " '__getattribute__',\n",
       " '__getnewargs__',\n",
       " '__getstate__',\n",
       " '__gt__',\n",
       " '__hash__',\n",
       " '__index__',\n",
       " '__init__',\n",
       " '__init_subclass__',\n",
       " '__int__',\n",
       " '__invert__',\n",
       " '__le__',\n",
       " '__lshift__',\n",
       " '__lt__',\n",
       " '__mod__',\n",
       " '__mul__',\n",
       " '__ne__',\n",
       " '__neg__',\n",
       " '__new__',\n",
       " '__or__',\n",
       " '__pos__',\n",
       " '__pow__',\n",
       " '__radd__',\n",
       " '__rand__',\n",
       " '__rdivmod__',\n",
       " '__reduce__',\n",
       " '__reduce_ex__',\n",
       " '__repr__',\n",
       " '__rfloordiv__',\n",
       " '__rlshift__',\n",
       " '__rmod__',\n",
       " '__rmul__',\n",
       " '__ror__',\n",
       " '__round__',\n",
       " '__rpow__',\n",
       " '__rrshift__',\n",
       " '__rshift__',\n",
       " '__rsub__',\n",
       " '__rtruediv__',\n",
       " '__rxor__',\n",
       " '__setattr__',\n",
       " '__sizeof__',\n",
       " '__str__',\n",
       " '__sub__',\n",
       " '__subclasshook__',\n",
       " '__truediv__',\n",
       " '__trunc__',\n",
       " '__xor__',\n",
       " 'as_integer_ratio',\n",
       " 'bit_count',\n",
       " 'bit_length',\n",
       " 'conjugate',\n",
       " 'denominator',\n",
       " 'from_bytes',\n",
       " 'imag',\n",
       " 'is_integer',\n",
       " 'numerator',\n",
       " 'real',\n",
       " 'to_bytes']"
      ]
     },
     "execution_count": 16,
     "metadata": {},
     "output_type": "execute_result"
    }
   ],
   "source": [
    "dir(int)\n"
   ]
  },
  {
   "cell_type": "code",
   "execution_count": 18,
   "id": "bd32d29d-abbd-4a26-8e46-74d960383722",
   "metadata": {},
   "outputs": [
    {
     "name": "stdout",
     "output_type": "stream",
     "text": [
      "15\n",
      "15\n"
     ]
    }
   ],
   "source": [
    "num=10\n",
    "print(num+5)\n",
    "print(num.__add__(5))"
   ]
  },
  {
   "cell_type": "code",
   "execution_count": 19,
   "id": "c460355f-a637-4b19-8ebe-526bc81e75d0",
   "metadata": {},
   "outputs": [
    {
     "name": "stdout",
     "output_type": "stream",
     "text": [
      "The new magic method is called\n",
      "__init__magic method is called\n",
      "<__main__.A object at 0x000001C62FF3A7B0>\n"
     ]
    }
   ],
   "source": [
    "#new() magic method \n",
    "#in python a new() magic method is implicity called before __init__ method\n",
    "#the new method return a new object which is then initialise by init\n",
    "class A:\n",
    "    def __new__(cls):\n",
    "        print(\"The new magic method is called\")\n",
    "        inst=object.__new__(cls)\n",
    "        return inst\n",
    "    def __init__(self):\n",
    "        print(\"__init__magic method is called\")\n",
    "        self.name='Python'\n",
    "a=A()her\n",
    "print(a)\n",
    "    \n"
   ]
  },
  {
   "cell_type": "code",
   "execution_count": 5,
   "id": "7daf126a-3cc1-4ccb-9ecf-1fe0780ffb96",
   "metadata": {},
   "outputs": [
    {
     "name": "stdout",
     "output_type": "stream",
     "text": [
      "12 km and 122 m\n"
     ]
    }
   ],
   "source": [
    "#Define a custom class to represent a distance(Km and m), and then use the __add__ magic \n",
    "#method to define how to add two instances of this class. This will allow us to add distances in \n",
    "#kilometers and meters properly. \n",
    "\n",
    "class Distance:\n",
    "    def __init__(self,km=0,m=0):\n",
    "        self.km=km+m//1000\n",
    "        self.m=m%1000\n",
    "    def __add__(self,other):\n",
    "        tkm=self.km+other.km\n",
    "        tm=self.m+other.m\n",
    "\n",
    "        if tm>1000:\n",
    "            tkm+=tm//1000\n",
    "            tm = tm%1000\n",
    "        return Distance(tkm,tm)\n",
    "    def __repr__(self):\n",
    "        return f\"{self.km} km and {self.m} m\"\n",
    "d1=Distance(2,466)\n",
    "d2=Distance(2,7656)\n",
    "d3=d1 + d2\n",
    "print(d3)\n",
    "\n"
   ]
  },
  {
   "cell_type": "code",
   "execution_count": null,
   "id": "36e9d825-46c7-4a10-804b-6c83d090862e",
   "metadata": {},
   "outputs": [],
   "source": [
    "\"\"\"str method\n",
    "it is overriden to return a printable string representation of any user defined class\"\"\"\n",
    "num=12\n",
    "x=str(num)\n",
    "y=int.__str__(num)\n",
    "print(type(X))\n",
    "\n"
   ]
  },
  {
   "cell_type": "code",
   "execution_count": 20,
   "id": "511138c5-163b-4070-9ce1-fdf464a1bab3",
   "metadata": {},
   "outputs": [
    {
     "name": "stdout",
     "output_type": "stream",
     "text": [
      "hello\n",
      "'hello'\n"
     ]
    }
   ],
   "source": [
    "s='hello'\n",
    "print(str(s))\n",
    "print(repr(s))"
   ]
  },
  {
   "cell_type": "code",
   "execution_count": 21,
   "id": "e5677673-0def-470b-9b5f-8a0dd8800e5b",
   "metadata": {},
   "outputs": [
    {
     "name": "stdout",
     "output_type": "stream",
     "text": [
      "2025-06-12 11:28:44.377543\n",
      "datetime.datetime(2025, 6, 12, 11, 28, 44, 377543)\n"
     ]
    }
   ],
   "source": [
    "import datetime \n",
    "today=datetime.datetime.now()\n",
    "print(str(today))\n",
    "print(repr(today))"
   ]
  },
  {
   "cell_type": "code",
   "execution_count": 26,
   "id": "a8d0929f-e2b2-4ebe-9105-a29499ef6134",
   "metadata": {},
   "outputs": [
    {
     "name": "stdout",
     "output_type": "stream",
     "text": [
      "8\n",
      "50\n",
      "5\n",
      "(5, 3)\n"
     ]
    }
   ],
   "source": [
    "class numbers:\n",
    "    multiplier=10\n",
    "    def __init__(self,x,y):\n",
    "        self.x=x\n",
    "        self.y=y\n",
    "    def add(self):\n",
    "        sum=self.x+self.y\n",
    "        return sum\n",
    "    def multiply(cls,a):\n",
    "        m=a*cls.multiplier\n",
    "        return m\n",
    "    def value(self):\n",
    "        return self.x,self.y\n",
    "    @staticmethod\n",
    "    def subtract(b,c):\n",
    "        return b-c\n",
    "a1=numbers(5,3)\n",
    "print(a1.add())\n",
    "print(a1.multiply(5))\n",
    "print(a1.subtract(10,5))\n",
    "print(a1.value())"
   ]
  },
  {
   "cell_type": "code",
   "execution_count": 14,
   "id": "0e6278d6-4abf-4f5e-8f6f-55da79939d1d",
   "metadata": {},
   "outputs": [
    {
     "name": "stdout",
     "output_type": "stream",
     "text": [
      "upper case: 1\n",
      "lower case: 10\n",
      "vowel: 3\n",
      "consonant: 8\n",
      "space: 1\n"
     ]
    }
   ],
   "source": [
    "class string1:\n",
    "    def __init__(self,str):\n",
    "        self.str=str\n",
    "        self.upper=0\n",
    "        self.lower=0\n",
    "        self.vowel=0\n",
    "        self.consonant=0\n",
    "        self.space=0\n",
    "    def upper_case(self):\n",
    "        for i in self.str:\n",
    "            if i.isupper():\n",
    "                self.upper+=1\n",
    "    def lower_case(self):\n",
    "        for i in self.str:\n",
    "            if i.islower():\n",
    "                self.lower+=1\n",
    "\n",
    "    def vow(self):\n",
    "        for i in self.str:\n",
    "            if i.lower() in ['a','e','i','o','u']:\n",
    "                self.vowel+=1\n",
    "\n",
    "        \n",
    "    def cons(self):\n",
    "        for i in self.str:\n",
    "            if i.lower() not in ['a','e','i','o','u']:\n",
    "                if  i.isalpha():\n",
    "                    self.consonant+=1\n",
    "\n",
    "    def spa(self):\n",
    "        for i in self.str:\n",
    "            if i.isspace():\n",
    "                self.space+=1\n",
    "    def display(self):\n",
    "        print(\"upper case:\",self.upper)\n",
    "        print(\"lower case:\",self.lower)\n",
    "        print(\"vowel:\",self.vowel)\n",
    "        print(\"consonant:\",self.consonant)\n",
    "        print(\"space:\",self.space)\n",
    "        \n",
    "s1=string1(\"Dev varshney\")\n",
    "s1.upper_case()\n",
    "s1.lower_case()\n",
    "s1.vow()\n",
    "s1.cons()\n",
    "s1.spa()\n",
    "s1.display()\n"
   ]
  },
  {
   "cell_type": "code",
   "execution_count": 13,
   "id": "1af54ce2-65cc-49e3-990e-1c99ffcf9590",
   "metadata": {},
   "outputs": [
    {
     "name": "stdout",
     "output_type": "stream",
     "text": [
      "<class 'object'>\n",
      "<class '__main__.person'>\n"
     ]
    }
   ],
   "source": [
    "class person:\n",
    "    pass\n",
    "print(person.__base__)\n",
    "class teacher(person):\n",
    "    pass\n",
    "print(teacher.__base__)"
   ]
  },
  {
   "cell_type": "code",
   "execution_count": 6,
   "id": "ddb61731-1303-472e-a195-d1f46db148df",
   "metadata": {},
   "outputs": [
    {
     "name": "stdout",
     "output_type": "stream",
     "text": [
      "inside method 1\n",
      "inside method 2\n",
      "inside method 3\n"
     ]
    }
   ],
   "source": [
    "#single inheritance\n",
    "class A:\n",
    "    def meth1(self):\n",
    "        print(\"inside method 1\")\n",
    "    def meth2(self):\n",
    "        print(\"inside method 2\")\n",
    "class B(A):\n",
    "    def meth3(self):\n",
    "        print(\"inside method 3\")\n",
    "ob1=B()\n",
    "ob2=A()\n",
    "ob1.meth1()\n",
    "ob1.meth2()\n",
    "ob1.meth3()\n",
    "\n"
   ]
  },
  {
   "cell_type": "code",
   "execution_count": 12,
   "id": "b2ed2cef-1f5c-4513-aa6e-6608c352d9bd",
   "metadata": {},
   "outputs": [
    {
     "name": "stdout",
     "output_type": "stream",
     "text": [
      "inside method 1\n",
      " Attribute 1:  90\n",
      "Atrribute 2:  100\n",
      "inside method 2\n",
      "Atrribute 3: 50\n",
      "Atrribute 4: 70\n",
      "Atrribute 1: 90\n"
     ]
    }
   ],
   "source": [
    "#attributes access\n",
    "class A:\n",
    "    def setdataA(self):\n",
    "        self.attr1=90\n",
    "        self.__attr2=100\n",
    "    def check(self):\n",
    "        print(\"inside method 1\")\n",
    "        print(\"Attribute 1: \",self.attr1)\n",
    "        print(\"Atrribute 2: \", self.__attr2)\n",
    "class B(A):\n",
    "    def setdataB(self):\n",
    "        self.attr3=50\n",
    "        self.__attr4=70\n",
    "    def check2(self):\n",
    "        print(\"inside method 2\")\n",
    "        print(\"Atrribute 3:\",self.attr3)\n",
    "        print(\"Atrribute 4:\",self.__attr4)\n",
    "        print(\"Atrribute 1:\",self.attr1)\n",
    "o1=B()\n",
    "o1.setdataA()\n",
    "o1.check()\n",
    "o1.setdataB()\n",
    "o1.check2()\n",
    "\n",
    "        "
   ]
  },
  {
   "cell_type": "code",
   "execution_count": 20,
   "id": "76764329-16b3-46cf-9f74-50aa4e32c922",
   "metadata": {},
   "outputs": [
    {
     "name": "stdout",
     "output_type": "stream",
     "text": [
      "(78.5, 31.400000000000002)\n"
     ]
    }
   ],
   "source": [
    "class Circle:\n",
    "    pie=3.14\n",
    "    def __init__(self,rad):\n",
    "        self.rad=rad\n",
    "        self.ar=self.area()\n",
    "        self.cir=self.circum()\n",
    "\n",
    "    def area(self):\n",
    "        ar=self.pie*self.rad**2\n",
    "        return ar\n",
    "    def circum(self):\n",
    "        cir=2*self.pie*self.rad\n",
    "        return cir\n",
    "    def display(self):\n",
    "        return (self.ar,self.cir)\n",
    "ob1=Circle(5)\n",
    "print(ob1.display())\n",
    "    \n",
    "        "
   ]
  },
  {
   "cell_type": "code",
   "execution_count": 1,
   "id": "ab7a6f6b-e360-4a12-9ef9-aafd4f3493f5",
   "metadata": {},
   "outputs": [
    {
     "name": "stdout",
     "output_type": "stream",
     "text": [
      "25\n"
     ]
    }
   ],
   "source": [
    "#superfunction\n",
    "class Rectangle:\n",
    "    def __init__(self,l,w):\n",
    "        self.length=l\n",
    "        self.width=w\n",
    "    def area(self):\n",
    "        return self.length*self.width\n",
    "    def perimeter(self):\n",
    "        return 2*self.length + 2*self.width\n",
    "class square (Rectangle):\n",
    "    def __init__(self,length):\n",
    "        super().__init__(length,length)\n",
    "ob1=square(5)\n",
    "print(ob1.area())\n",
    "        "
   ]
  },
  {
   "cell_type": "code",
   "execution_count": 6,
   "id": "264f18d0-6cd9-49f3-820f-4a333990e88d",
   "metadata": {},
   "outputs": [
    {
     "name": "stdout",
     "output_type": "stream",
     "text": [
      "This method is in parent class\n",
      "This method is in child2\n"
     ]
    }
   ],
   "source": [
    "#hierarichal inheritance\n",
    "class Parent:\n",
    "    def meth1(self):\n",
    "        print(\"This method is in parent class\")\n",
    "class child1(Parent):\n",
    "    def meth2(self):\n",
    "        print(\"This method is in child1\")\n",
    "class child2(Parent):\n",
    "    def meth3(self):\n",
    "        print(\"This method is in child2\")\n",
    "p1=child2()\n",
    "p1.meth1()\n",
    "p1.meth3()\n"
   ]
  },
  {
   "cell_type": "code",
   "execution_count": 12,
   "id": "b2d335f2-bf74-42b7-bc1c-87d7be1494b0",
   "metadata": {},
   "outputs": [
    {
     "name": "stdout",
     "output_type": "stream",
     "text": [
      "Name:Dev varshney\n",
      "Age:20\n",
      "Qualification:btech\n",
      "Gender: m\n",
      "Name:nisha raghav\n",
      "Age:19\n",
      "roll:3232\n",
      "branch:cse\n"
     ]
    }
   ],
   "source": [
    "class Person:\n",
    "    def __init__(self,name,age):\n",
    "        self.name=name\n",
    "        self.age=age\n",
    "    def display(self):\n",
    "        print(f\"Name:{self.name}\\nAge:{self.age}\")\n",
    "class teacher(Person):\n",
    "    def __init__(self,name,age,qual,gender):\n",
    "        super().__init__(name, age)\n",
    "        self.qual=qual\n",
    "        self.gender=gender\n",
    "    def displaytd(self):\n",
    "        print(f\"Qualification:{self.qual}\\nGender: {self.gender}\")\n",
    "class student(Person):\n",
    "    def __init__(self,name,age,roll,branch):\n",
    "        super().__init__(name, age)\n",
    "        self.roll=roll\n",
    "        self.branch=branch\n",
    "    def displaysd(self):\n",
    "        print(f\"roll:{self.roll}\\nbranch:{self.branch}\")\n",
    "t1=teacher(\"Dev varshney\",20,'btech','m')\n",
    "t1.display()\n",
    "t1.displaytd()\n",
    "\n",
    "\n",
    "t2=student(\"nisha raghav\",19,3232,'cse')\n",
    "t2.display()\n",
    "t2.displaysd()\n",
    "\n"
   ]
  },
  {
   "cell_type": "code",
   "execution_count": 19,
   "id": "ea96e17c-676b-46ae-936c-3713db589224",
   "metadata": {},
   "outputs": [
    {
     "name": "stdout",
     "output_type": "stream",
     "text": [
      "Roll no:  1\n",
      "Name: dev\n",
      "marks1: 20\n",
      "marks2: 30\n",
      "marks3: 40\n",
      "total marks: 90\n"
     ]
    }
   ],
   "source": [
    "#multi level inheritance\n",
    "class student:\n",
    "    def set_student_details(self,rollno,name):\n",
    "        self.rollno = rollno\n",
    "        self.name = name\n",
    "    def display_student_details(self):\n",
    "        print(\"Roll no: \",self.rollno)\n",
    "        print(\"Name:\",self.name)\n",
    "class marks(student):\n",
    "    def setmarks(self,m1,m2,m3):\n",
    "        self.marks1=m1\n",
    "        self.marks2=m2\n",
    "        self.marks3=m3\n",
    "    def display_marks(self):\n",
    "        print(\"marks1:\",self.marks1)\n",
    "        print(\"marks2:\",self.marks2)\n",
    "        print(\"marks3:\",self.marks3)\n",
    "class result(marks):\n",
    "    def cal_total(self):\n",
    "        self.total=self.marks1+self.marks2+self.marks3\n",
    "    def display_result(self):\n",
    "        print(\"total marks:\",self.total)\n",
    "re=result()\n",
    "re.set_student_details(1,'dev')\n",
    "re.setmarks(20,30,40)\n",
    "re.display_student_details()\n",
    "re.display_marks()\n",
    "re.cal_total()\n",
    "re.display_result()\n",
    "\n",
    "        "
   ]
  },
  {
   "cell_type": "code",
   "execution_count": 20,
   "id": "cc3942ad-b39c-4db7-aa6e-13e98b892cb4",
   "metadata": {},
   "outputs": [
    {
     "name": "stdout",
     "output_type": "stream",
     "text": [
      "Roll no:  1\n",
      "Name: dev\n",
      "marks1: 20\n",
      "marks2: 30\n",
      "marks3: 40\n",
      "total marks: 90\n"
     ]
    }
   ],
   "source": [
    "#multiple inheritance\n",
    "class student:\n",
    "    def set_student_details(self,rollno,name):\n",
    "        self.rollno = rollno\n",
    "        self.name = name\n",
    "    def display_student_details(self):\n",
    "        print(\"Roll no: \",self.rollno)\n",
    "        print(\"Name:\",self.name)\n",
    "class marks:\n",
    "    def setmarks(self,m1,m2,m3):\n",
    "        self.marks1=m1\n",
    "        self.marks2=m2\n",
    "        self.marks3=m3\n",
    "    def display_marks(self):\n",
    "        print(\"marks1:\",self.marks1)\n",
    "        print(\"marks2:\",self.marks2)\n",
    "        print(\"marks3:\",self.marks3)\n",
    "class result(marks,student):\n",
    "    def cal_total(self):\n",
    "        self.total=self.marks1+self.marks2+self.marks3\n",
    "    def display_result(self):\n",
    "        print(\"total marks:\",self.total)\n",
    "re=result()\n",
    "re.set_student_details(1,'dev')\n",
    "re.setmarks(20,30,40)\n",
    "re.display_student_details()\n",
    "re.display_marks()\n",
    "re.cal_total()\n",
    "re.display_result()\n"
   ]
  },
  {
   "cell_type": "code",
   "execution_count": null,
   "id": "9732c3bc-0c91-4a0a-9a3d-cd76b35b9e60",
   "metadata": {},
   "outputs": [],
   "source": [
    "#hybrid inheritance"
   ]
  },
  {
   "cell_type": "code",
   "execution_count": null,
   "id": "f28a6bc1-d80a-4c62-8a60-02f31ceacfd9",
   "metadata": {},
   "outputs": [],
   "source": [
    "#wap that extends the class Employee .derive two classes Manger and team leader from employee class.display all the \n",
    "#details of the Employee working under a particular manager and team leader\n",
    "class Employee:\n",
    "    def __init__(self,name,age):\n",
    "        self.name=name\n",
    "        self.age=age\n",
    "    def display(self):\n",
    "        print(\"name of employee is:\",self.name)\n",
    "        print(\"age of employee is:\",self.age\n",
    "        \n",
    "    "
   ]
  },
  {
   "cell_type": "code",
   "execution_count": null,
   "id": "11d00a70-3524-4f61-87dd-f88c16c8c4f2",
   "metadata": {},
   "outputs": [],
   "source": [
    "#diamond problem\n",
    "class A:\n",
    "    def learn"
   ]
  },
  {
   "cell_type": "code",
   "execution_count": 15,
   "id": "c2147adf-7efa-4d15-aad4-7019e98c2677",
   "metadata": {},
   "outputs": [
    {
     "name": "stdout",
     "output_type": "stream",
     "text": [
      "nisha\n"
     ]
    }
   ],
   "source": [
    "class xyz:\n",
    "    @staticmethod\n",
    "    def hello():\n",
    "        print(\"nisha\")\n",
    "o=xyz()\n",
    "o.hello()"
   ]
  },
  {
   "cell_type": "code",
   "execution_count": null,
   "id": "e107e829-a997-49cc-82aa-0e302733ba09",
   "metadata": {},
   "outputs": [],
   "source": []
  }
 ],
 "metadata": {
  "kernelspec": {
   "display_name": "Python 3 (ipykernel)",
   "language": "python",
   "name": "python3"
  },
  "language_info": {
   "codemirror_mode": {
    "name": "ipython",
    "version": 3
   },
   "file_extension": ".py",
   "mimetype": "text/x-python",
   "name": "python",
   "nbconvert_exporter": "python",
   "pygments_lexer": "ipython3",
   "version": "3.13.4"
  }
 },
 "nbformat": 4,
 "nbformat_minor": 5
}
