{
 "cells": [
  {
   "cell_type": "code",
   "execution_count": null,
   "id": "496c3576-5eea-4638-a067-ea1f6be3b628",
   "metadata": {},
   "outputs": [],
   "source": [
    "from tkinter import *\n"
   ]
  },
  {
   "cell_type": "code",
   "execution_count": null,
   "id": "181f2c3f-053e-431e-8320-c924fd1ad508",
   "metadata": {},
   "outputs": [],
   "source": []
  },
  {
   "cell_type": "code",
   "execution_count": 8,
   "id": "e0576bc7-e09d-4c89-a04b-7639a7abf7a8",
   "metadata": {},
   "outputs": [],
   "source": [
    "#creation of Windows\n",
    "from tkinter import Tk\n",
    "root=Tk()\n",
    "root.mainloop()\n",
    "#Tk() is the class which is used to create the root windows of the application\n"
   ]
  },
  {
   "cell_type": "code",
   "execution_count": 14,
   "id": "017c39d6-e39d-4cc4-92fe-70eee608fabd",
   "metadata": {},
   "outputs": [],
   "source": [
    "from tkinter import Tk\n",
    "root=Tk()\n",
    "root.title(\"Dev\")\n",
    "root.mainloop()"
   ]
  },
  {
   "cell_type": "code",
   "execution_count": 17,
   "id": "65108ca1-9bac-422d-bcd6-c8c84f25e5cc",
   "metadata": {},
   "outputs": [
    {
     "name": "stdout",
     "output_type": "stream",
     "text": [
      "screen_width: 1536\n",
      "screen_height: 864\n"
     ]
    }
   ],
   "source": [
    "#to check the screen size\n",
    "from tkinter import Tk\n",
    "root=Tk()\n",
    "screen_width=root.winfo_screenwidth()\n",
    "screen_height=root.winfo_screenheight()\n",
    "print(\"screen_width:\",screen_width)\n",
    "print(\"screen_height:\",screen_height)"
   ]
  },
  {
   "cell_type": "code",
   "execution_count": 19,
   "id": "278c28b3-7177-40fb-b94a-10c0e239db30",
   "metadata": {},
   "outputs": [],
   "source": [
    "#to make window full screen\n",
    "from tkinter import Tk\n",
    "root=Tk()\n",
    "root.attributes('-fullscreen',True)\n",
    "root.mainloop()"
   ]
  },
  {
   "cell_type": "code",
   "execution_count": 28,
   "id": "2c3de970-e1fb-4375-b2db-9652b49a79d3",
   "metadata": {},
   "outputs": [],
   "source": [
    "#to resize window\n",
    "from tkinter import Tk\n",
    "root=Tk()\n",
    "root.geometry(\"720x800+200+200\")\n",
    "root.mainloop()"
   ]
  },
  {
   "cell_type": "code",
   "execution_count": 32,
   "id": "4a3daa44-53c8-4555-bbc1-f7e19eaf4026",
   "metadata": {},
   "outputs": [],
   "source": [
    "#to create label as a child root of the window\n",
    "from tkinter import Tk,Label\n",
    "root=Tk()\n",
    "msg=Label(root,text=\"Dev\")\n",
    "msg.pack()\n",
    "root.mainloop()"
   ]
  },
  {
   "cell_type": "code",
   "execution_count": 34,
   "id": "1ade0167-eb52-4fc3-a93c-dac4c33dcc6d",
   "metadata": {},
   "outputs": [],
   "source": [
    "#to modify font\n",
    "from tkinter import *\n",
    "root=Tk()\n",
    "msg=Label(root,text=\"Dev Varshney\")\n",
    "msg.config(font=('Freestyle Script',33,'italic bold underline'))\n",
    "msg.pack()\n",
    "root.mainloop()"
   ]
  },
  {
   "cell_type": "code",
   "execution_count": 35,
   "id": "2548dba6-7dd7-4a3b-98cd-8d8013b58d0e",
   "metadata": {},
   "outputs": [],
   "source": [
    "#to display two different label with coloured background\n",
    "from tkinter import *\n",
    "root=Tk()\n",
    "Label1=Label(root,text=\" Dev \",background ='blue')\n",
    "Label2=Label(root,text=\" varshney \",background ='red')\n",
    "Label1.pack()\n",
    "Label2.pack()\n",
    "root.mainloop()"
   ]
  },
  {
   "cell_type": "markdown",
   "id": "943795a4-e8d6-4c3d-98cd-343028fcaff4",
   "metadata": {},
   "source": [
    "1 fill: widget expands to take up any extra space(x,y,or both)\n",
    "2. Padx/pady: outter padding\n",
    "3. ipadx/ipady : inner padding\n",
    "4. Side: which side to stack from"
   ]
  },
  {
   "cell_type": "code",
   "execution_count": 48,
   "id": "cdd17b93-ae13-4c97-a73d-baf23f35be77",
   "metadata": {},
   "outputs": [],
   "source": [
    "from tkinter import *\n",
    "root=Tk()\n",
    "Label1=Label(root,text=\" Dev \",background ='blue')\n",
    "Label2=Label(root,text=\" varshney \",background ='red')\n",
    "Label1.pack(fill=x,padx=100,ipadx=250,side=RIGHT)\n",
    "Label2.pack(fill=X,padx=200,ipadx=400,side=RIGHT)\n",
    "\n",
    "root.mainloop()"
   ]
  },
  {
   "cell_type": "code",
   "execution_count": 5,
   "id": "fff0bb16-1e68-4149-acdb-e3bf2ed46191",
   "metadata": {},
   "outputs": [],
   "source": [
    "from tkinter import Frame,Tk,Label\n",
    "from PIL import ImageTk, Image\n",
    "\n",
    "win = Tk()\n",
    "win.geometry(\"700x500\")\n",
    "\n",
    "frame=Frame(win,width=600,height=400)\n",
    "frame.pack()\n",
    "frame.place(anchor='center', relx=0.5, rely=0.5)\n",
    "img = ImageTk.PhotoImage(Image.open(r\"C:\\WhatsApp Image 2023-11-23 at 19.34.06_29994c3da.jpg\"))\n",
    "\n",
    "label = Label(frame, image=img) \n",
    "label.pack()  \n",
    "\n",
    "win.mainloop()\n"
   ]
  },
  {
   "cell_type": "code",
   "execution_count": 4,
   "id": "8357d283-f5b3-466c-8e09-be7cae5ce43d",
   "metadata": {},
   "outputs": [],
   "source": [
    "from tkinter import Tk,Button\n",
    "root=Tk()\n",
    "exitButton=Button(root,text='EXIT',command=root.destroy)\n",
    "exitButton.pack()\n",
    "def My_callback():\n",
    "    print(\"You Clicked the message Button\")\n",
    "msg_button=Button(root,text='Click Here',command=My_callback)\n",
    "msg_button.pack()\n",
    "root.mainloop()"
   ]
  },
  {
   "cell_type": "code",
   "execution_count": 13,
   "id": "f8d20cf7-c042-49b3-815e-7e92199ce2bd",
   "metadata": {},
   "outputs": [],
   "source": [
    "#to display the menu bar\n",
    "from tkinter import Tk,Menu \n",
    "root=Tk()\n",
    "#create menu bar\n",
    "menu_bar=Menu(root)\n",
    "fileMenu=Menu(menu_bar,tearoff=0)\n",
    "fileMenu.add_command(label='stop',command=root.destroy)\n",
    "fileMenu.add_command(label='kill',command=root.destroy)\n",
    "fileMenu.add_command(label='Exit',command=root.destroy)\n",
    "#add the file drop down sub menu in the main menu\n",
    "menu_bar.add_cascade(label='File',menu=fileMenu)\n",
    "root.config(menu=menu_bar)\n",
    "root.mainloop()"
   ]
  },
  {
   "cell_type": "code",
   "execution_count": 1,
   "id": "578f1b1f-94d2-480d-a783-ee03d8519bae",
   "metadata": {},
   "outputs": [],
   "source": [
    "from tkinter import *\n",
    "\n",
    "# Create the main window\n",
    "window = Tk()\n",
    "window.title(\"Arithmetic Calculator\")\n",
    "window.geometry('800x200')\n",
    "\n",
    "def calculate():\n",
    "    # Get the numbers from the entries\n",
    "    try:\n",
    "        num1 = float(entry1.get())\n",
    "        num2 = float(entry2.get())\n",
    "    except ValueError:\n",
    "        result_label.config(text=\"Please enter valid numbers.\")\n",
    "        return\n",
    "    \n",
    "    # Get the selected operation\n",
    "    operation = operation_var.get()\n",
    "    \n",
    "    # Perform the selected operation\n",
    "    if operation == \"+\":\n",
    "        result = num1 + num2\n",
    "    elif operation == \"-\":\n",
    "        result = num1 - num2\n",
    "    elif operation == \"*\":\n",
    "        result = num1 * num2\n",
    "    elif operation == \"/\":\n",
    "        if num2 == 0:\n",
    "            result_label.config(text=\"Cannot divide by zero.\")\n",
    "            return\n",
    "        result = num1 / num2\n",
    "    else:\n",
    "        result_label.config(text=\"Please select an operation.\")\n",
    "        return\n",
    "    \n",
    "    # Update the result label\n",
    "    result_label.config(text=f\"Result: {result}\")\n",
    "\n",
    "# First number label and entry\n",
    "label1 = Label(window, text=\"Number 1:\")\n",
    "label1.grid(row=0, column=0, padx=10, pady=5)\n",
    "\n",
    "entry1 = Entry(window)\n",
    "entry1.grid(row=0, column=1, padx=10, pady=5)\n",
    "\n",
    "# Second number label and entry\n",
    "label2 = Label(window, text=\"Number 2:\")\n",
    "label2.grid(row=1, column=0, padx=10, pady=5)\n",
    "\n",
    "entry2 = Entry(window)\n",
    "entry2.grid(row=1, column=1, padx=10, pady=5)\n",
    "\n",
    "# Operation label and radio buttons\n",
    "operation_var = StringVar()\n",
    "operation_var.set(\"+\")\n",
    "\n",
    "label3 = Label(window, text=\"Operation:\")\n",
    "label3.grid(row=2, column=0, padx=10, pady=5)\n",
    "\n",
    "operations_frame = Frame(window)\n",
    "operations_frame.grid(row=2, column=1, padx=10, pady=5)\n",
    "\n",
    "radio_add = Radiobutton(operations_frame, text=\"+\", variable=operation_var, value=\"+\")\n",
    "radio_add.pack(side=LEFT)\n",
    "\n",
    "radio_subtract = Radiobutton(operations_frame, text=\"-\", variable=operation_var, value=\"-\")\n",
    "radio_subtract.pack(side=LEFT)\n",
    "\n",
    "radio_multiply = Radiobutton(operations_frame, text=\"*\", variable=operation_var, value=\"*\")\n",
    "radio_multiply.pack(side=LEFT)\n",
    "\n",
    "radio_divide = Radiobutton(operations_frame, text=\"/\", variable=operation_var, value=\"/\")\n",
    "radio_divide.pack(side=LEFT)\n",
    "\n",
    "# Submit button\n",
    "submit_button = Button(window, text=\"Calculate\", command=calculate)\n",
    "submit_button.grid(row=3, column=0, columnspan=2, pady=10)\n",
    "\n",
    "# Label to show the result\n",
    "result_label = Label(window, text=\"Result: \")\n",
    "result_label.grid(row=4, column=0, columnspan=2, pady=5)\n",
    "\n",
    "window.mainloop()"
   ]
  },
  {
   "cell_type": "code",
   "execution_count": 1,
   "id": "ba0bed9f-5b76-4b59-b893-521df9eea4f7",
   "metadata": {},
   "outputs": [
    {
     "name": "stdout",
     "output_type": "stream",
     "text": [
      "hello\n",
      "hello\n",
      "hello\n",
      "hello\n",
      "hello\n"
     ]
    }
   ],
   "source": [
    "count=1\n",
    "while count<=5:\n",
    "    print(\"hello\")\n",
    "    count+=1"
   ]
  },
  {
   "cell_type": "code",
   "execution_count": null,
   "id": "c68d7fbb-efb7-43fd-8afb-9224ed09ee0f",
   "metadata": {},
   "outputs": [],
   "source": []
  }
 ],
 "metadata": {
  "kernelspec": {
   "display_name": "Python 3 (ipykernel)",
   "language": "python",
   "name": "python3"
  },
  "language_info": {
   "codemirror_mode": {
    "name": "ipython",
    "version": 3
   },
   "file_extension": ".py",
   "mimetype": "text/x-python",
   "name": "python",
   "nbconvert_exporter": "python",
   "pygments_lexer": "ipython3",
   "version": "3.13.4"
  }
 },
 "nbformat": 4,
 "nbformat_minor": 5
}
